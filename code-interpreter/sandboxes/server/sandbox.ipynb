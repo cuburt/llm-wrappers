{
 "cells": [
  {
   "cell_type": "code",
   "execution_count": null,
   "id": "e638c6e0-9693-4653-8ba4-773638edf184",
   "metadata": {},
   "outputs": [
    {
     "name": "stderr",
     "output_type": "stream",
     "text": [
      "INFO:     Started server process [23163]\n",
      "INFO:     Waiting for application startup.\n",
      "INFO:     Application startup complete.\n",
      "INFO:     Uvicorn running on http://0.0.0.0:8081 (Press CTRL+C to quit)\n"
     ]
    },
    {
     "name": "stdout",
     "output_type": "stream",
     "text": [
      "Print \"Hej!\"\n",
      "\n",
      "['docker', 'exec', 'dind-container', 'docker', 'exec', 'voltscript-sandbox', 'VoltScript', 'input.vss']\n",
      "Hej!\n",
      "\n",
      "INFO:     127.0.0.1:49790 - \"POST /sandboxes/voltscript HTTP/1.1\" 200 OK\n"
     ]
    }
   ],
   "source": [
    "from fastapi import FastAPI\n",
    "import uvicorn\n",
    "import re\n",
    "import json\n",
    "import subprocess\n",
    "import platform\n",
    "import nest_asyncio\n",
    "\n",
    "nest_asyncio.apply()\n",
    "# Create an instance of the FastAPI class\n",
    "sandbox = FastAPI()\n",
    "\n",
    "# Define a path operation decorator for the root path \"/\"\n",
    "@sandbox.post(\"/sandboxes/voltscript\")\n",
    "async def run_code(request: dict):\n",
    "    prompt = request['query']\n",
    "    _input = re.sub(r'http\\S+', '', prompt.replace(\"{\", \"\").replace(\"}\", \"\").replace(\"\\\\\", \"/\"))\n",
    "    write_cmd = ['docker', 'exec', 'dind-container', 'sh', '-c', f\"printf '{_input}' > input.vss\"]\n",
    "    _ = subprocess.run(write_cmd, capture_output=True, text=True).stdout\n",
    "    run_cmd = ['docker', 'exec', 'dind-container', 'docker', 'exec', 'voltscript-sandbox', 'VoltScript', 'input.vss']\n",
    "    res = subprocess.run(run_cmd, capture_output=True, text=True).stdout\n",
    "    return {'response': res} \n",
    "\n",
    "if __name__ == \"__main__\":\n",
    "    uvicorn.run(sandbox, host=\"0.0.0.0\", port=8081)"
   ]
  },
  {
   "cell_type": "code",
   "execution_count": null,
   "id": "2b1e2639-2015-4fb5-bef1-fe4db78ab1fa",
   "metadata": {},
   "outputs": [],
   "source": [
    "docker exec dind-container cat > input.vss << EOF Print \"Hello!\" EOF"
   ]
  },
  {
   "cell_type": "code",
   "execution_count": null,
   "id": "75348ced-79e0-4aa2-bb73-fc56597f690f",
   "metadata": {},
   "outputs": [],
   "source": [
    "curl -X POST -H \"Content-Type: application/json\" -d '{\"query\": \"Print \\\"Hej!\\\"\"}' http://127.0.0.1:8081/sandboxes/voltscript\n"
   ]
  },
  {
   "cell_type": "code",
   "execution_count": null,
   "id": "b4604cc2-ea72-414a-baa4-4fa12253a211",
   "metadata": {},
   "outputs": [],
   "source": [
    "curl -sfL -o docker.tgz \"https://download.docker.com/linux/static/stable/x86_64/docker-25.0.4.tgz\" && \\\n",
    "  tar -xzf docker.tgz docker/docker --strip=1 --directory /usr/local/bin && \\\n",
    "  rm docker.tgz"
   ]
  }
 ],
 "metadata": {
  "environment": {
   "kernel": "python3",
   "name": "common-cpu.m93",
   "type": "gcloud",
   "uri": "gcr.io/deeplearning-platform-release/base-cpu:m93"
  },
  "kernelspec": {
   "display_name": "Python 3",
   "language": "python",
   "name": "python3"
  },
  "language_info": {
   "codemirror_mode": {
    "name": "ipython",
    "version": 3
   },
   "file_extension": ".py",
   "mimetype": "text/x-python",
   "name": "python",
   "nbconvert_exporter": "python",
   "pygments_lexer": "ipython3",
   "version": "3.7.12"
  }
 },
 "nbformat": 4,
 "nbformat_minor": 5
}
