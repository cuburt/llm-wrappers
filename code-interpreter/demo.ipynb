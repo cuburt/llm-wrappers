{
 "cells": [
  {
   "cell_type": "markdown",
   "id": "80c06b04-73dc-4f86-a545-021f41f98be7",
   "metadata": {},
   "source": [
    "## translation from lotuscript:\n",
    "\n",
    "Dim num As Integer\n",
    "num = CInt(InputBox(\"Enter a number: \"))\n",
    "If (num Mod 2) = 0 Then\n",
    "   Print \"0 is Even\"\n",
    "Else\n",
    "   Print \"0 is Odd\"\n",
    "End If"
   ]
  },
  {
   "cell_type": "code",
   "execution_count": null,
   "id": "0b495fb6-600b-477b-8e9f-da9bb95b20e9",
   "metadata": {},
   "outputs": [],
   "source": [
    "\"Dim num As Integer \\nnum = CInt(InputBox(\\\"Enter a number: \\\")) \\nIf (num Mod 2) = 0 Then \\nPrint \\\"0 is Even\\\" \\nElse \\nPrint \\\"0 is Odd\\\" End If\""
   ]
  },
  {
   "cell_type": "code",
   "execution_count": 2,
   "id": "90a1d7e0-824a-445b-91f5-a22e9aafaa55",
   "metadata": {
    "tags": []
   },
   "outputs": [
    {
     "name": "stdout",
     "output_type": "stream",
     "text": [
      " ```voltscript\n",
      "Dim num As Integer\n",
      "num = CInt(InputBox(\"Enter a number: \"))\n",
      "If (num Mod 2) = 0 Then\n",
      "    Print \"0 is Even\"\n",
      "Else\n",
      "    Print \"0 is Odd\"\n",
      "End If\n",
      "```\n"
     ]
    }
   ],
   "source": [
    "print(\" ```voltscript\\nDim num As Integer\\nnum = CInt(InputBox(\\\"Enter a number: \\\"))\\nIf (num Mod 2) = 0 Then\\n    Print \\\"0 is Even\\\"\\nElse\\n    Print \\\"0 is Odd\\\"\\nEnd If\\n```\")"
   ]
  },
  {
   "cell_type": "markdown",
   "id": "bfc5d2d6-63f6-4777-8c91-022c4d469473",
   "metadata": {},
   "source": [
    "## translation from python\n",
    "\n",
    "my_array = ['hi micheal', 'hi jim', 'hi pam', 'hi dwight']\n",
    "i = 0\n",
    "while i < len(my_array):\n",
    "    print(my_array[i])\n",
    "    i+=1"
   ]
  },
  {
   "cell_type": "code",
   "execution_count": null,
   "id": "7353f813-4964-4457-b277-d5beccfccd5d",
   "metadata": {},
   "outputs": [],
   "source": [
    "\"my_array = ['hi micheal', 'hi jim', 'hi pam', 'hi dwight']\\ni = 0\\nwhile i < len(my_array):\\n    print(my_array[i])\\n    i+=1\""
   ]
  },
  {
   "cell_type": "code",
   "execution_count": null,
   "id": "0819d83c-29ab-417c-9509-f16f3d99aca2",
   "metadata": {},
   "outputs": [],
   "source": [
    "print()"
   ]
  },
  {
   "cell_type": "markdown",
   "id": "5be18d03-635f-468b-8b1c-b5ce858f013e",
   "metadata": {},
   "source": [
    "## annotation\n",
    "\n",
    "Dim my_array(0 To 3) As Variant\n",
    "my_array(0) = \"hi micheal\"\n",
    "my_array(1) = \"hi jim\"\n",
    "my_array(2) = \"hi pam\"\n",
    "my_array(3) = \"hi dwight\"\n",
    "Dim i As Integer\n",
    "i = 0\n",
    "While i < UBound(my_array)\n",
    "    Print my_array(i)\n",
    "    i++\n",
    "Wend"
   ]
  },
  {
   "cell_type": "code",
   "execution_count": null,
   "id": "41a41ac0-1a35-4c91-ba24-4e16aa835651",
   "metadata": {},
   "outputs": [],
   "source": [
    "\"\\nDim my_array(0 To 3) As Variant\\nmy_array(0) = \\\"hi micheal\\\"\\nmy_array(1) = \\\"hi jim\\\"\\nmy_array(2) = \\\"hi pam\\\"\\nmy_array(3) = \\\"hi dwight\\\"\\nDim i As Integer\\ni = 0\\nWhile i < UBound(my_array)\\n    Print my_array(i)\\n    i++\\nWend\""
   ]
  },
  {
   "cell_type": "code",
   "execution_count": null,
   "id": "1586a26e-7f00-4801-a92f-0f8138a28d9a",
   "metadata": {},
   "outputs": [],
   "source": [
    "print()"
   ]
  },
  {
   "cell_type": "code",
   "execution_count": null,
   "id": "e81f1f12-4660-4de7-b92c-c05d89db3cd9",
   "metadata": {},
   "outputs": [],
   "source": []
  }
 ],
 "metadata": {
  "kernelspec": {
   "display_name": "Python 3 (ipykernel)",
   "language": "python",
   "name": "python3"
  },
  "language_info": {
   "codemirror_mode": {
    "name": "ipython",
    "version": 3
   },
   "file_extension": ".py",
   "mimetype": "text/x-python",
   "name": "python",
   "nbconvert_exporter": "python",
   "pygments_lexer": "ipython3",
   "version": "3.10.13"
  }
 },
 "nbformat": 4,
 "nbformat_minor": 5
}
