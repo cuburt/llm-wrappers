{
 "cells": [
  {
   "cell_type": "code",
   "execution_count": 4,
   "metadata": {},
   "outputs": [
    {
     "name": "stderr",
     "output_type": "stream",
     "text": [
      "huggingface/tokenizers: The current process just got forked, after parallelism has already been used. Disabling parallelism to avoid deadlocks...\n",
      "To disable this warning, you can either:\n",
      "\t- Avoid using `tokenizers` before the fork if possible\n",
      "\t- Explicitly set the environment variable TOKENIZERS_PARALLELISM=(true | false)\n"
     ]
    },
    {
     "name": "stdout",
     "output_type": "stream",
     "text": [
      "Collecting faiss-cpu==1.7.4\n",
      "  Using cached faiss_cpu-1.7.4-cp310-cp310-macosx_11_0_arm64.whl.metadata (1.3 kB)\n",
      "Using cached faiss_cpu-1.7.4-cp310-cp310-macosx_11_0_arm64.whl (2.7 MB)\n",
      "Installing collected packages: faiss-cpu\n",
      "Successfully installed faiss-cpu-1.7.4\n"
     ]
    }
   ],
   "source": [
    "!pip install faiss-cpu==1.7.4"
   ]
  },
  {
   "cell_type": "code",
   "execution_count": 1,
   "metadata": {},
   "outputs": [
    {
     "name": "stderr",
     "output_type": "stream",
     "text": [
      "/Users/cuburtbalanon/anaconda3/envs/rag-nlp/lib/python3.10/site-packages/pinecone/index.py:4: TqdmWarning: IProgress not found. Please update jupyter and ipywidgets. See https://ipywidgets.readthedocs.io/en/stable/user_install.html\n",
      "  from tqdm.autonotebook import tqdm\n"
     ]
    }
   ],
   "source": [
    "from typing import List, Dict\n",
    "from langchain.schema.vectorstore import VectorStore\n",
    "from langchain.docstore.document import Document\n",
    "import pinecone\n",
    "import logging\n",
    "from text_embeddings import TextEmbeddings\n",
    "from langchain.vectorstores import Pinecone\n",
    "from langchain.vectorstores import FAISS\n",
    "from adapter import ArxivStoreAdapter\n",
    "from langchain.schema.document import Document\n",
    "\n",
    "\n",
    "class VoltScriptStore:\n",
    "    def __init__(self, docs: List[Document]=None, db_dir: FAISS=None):\n",
    "        logging.info(\"initialising vector database...\")\n",
    "        embed_model = TextEmbeddings('sentence-transformers/all-MiniLM-L6-v2')\n",
    "        self.local_dir = db_dir\n",
    "        if not docs and self.local_dir:\n",
    "            self.vectorstore = FAISS.load_local(self.local_dir, embed_model)\n",
    "        elif docs and not db_dir:\n",
    "            self.vectorstore = FAISS.from_documents(docs, embed_model)\n",
    "        else:\n",
    "            raise Exception(\"No Documents and local FAISS file\")\n",
    "\n",
    "    def insert_docs(self, texts: List[Dict]):\n",
    "        docs = []\n",
    "        for i in range(0, len(texts)):\n",
    "            doc = Document(page_content=texts[i]['text'], metadata= {\"filename\": texts[i].get(\"filename\", \"/\")})\n",
    "            docs.append(doc)\n",
    "        res = self.vectorstore.add_documents(docs)\n",
    "        if self.local_dir:\n",
    "            self.vectorstore.save_local(self.local_dir)\n",
    "        return res"
   ]
  },
  {
   "cell_type": "code",
   "execution_count": 2,
   "metadata": {},
   "outputs": [],
   "source": [
    "import document_loader as docloader\n",
    "import os\n",
    "\n",
    "\n",
    "LOTUSCRIPT_DATA_DIR = os.path.join(\"data\")\n",
    "VOLTSCRIPT_DATA = os.path.join(\"data\", \"voltscript.csv\")\n",
    "\n",
    "db = VoltScriptStore(docs=docloader.column_in_csv_to_list_of_docs(file=VOLTSCRIPT_DATA, col=\"code\", metadata_cols=['filename']))"
   ]
  },
  {
   "cell_type": "code",
   "execution_count": 3,
   "metadata": {},
   "outputs": [
    {
     "data": {
      "text/plain": [
       "['feeca100-7d2d-45c6-af6e-aee765abc653',\n",
       " '6508b92e-ab0f-42dc-baed-342939bb995a',\n",
       " '2782621c-3a0b-41b8-8b9a-2bc051d5d9f3',\n",
       " '27e57f33-4b75-42d1-ad6c-691be58d8bfd',\n",
       " '6302de3a-d4fe-4ee1-8990-c1f871082600',\n",
       " '444dea95-0798-41e0-a360-8ba8f3a13ea8',\n",
       " '30aa7be9-89cb-4008-a924-ac0a3153e53f',\n",
       " '0c2cd145-70d7-49e7-b0f3-3242c434d542',\n",
       " '6ebcd290-c630-489a-b9b1-aafae9d94bbf',\n",
       " '63c3b93f-a992-4af0-8ff8-030649b0d4b4',\n",
       " 'a32f2f1f-7478-4c5d-b29e-3a0d4902bb83',\n",
       " '52bbca00-0f56-486d-95f0-df9f2fe300b3',\n",
       " 'bcaebf75-5c5f-4872-abca-1c07fa6f394b',\n",
       " '0ec88446-b59d-4f62-8d47-04d511f53dec',\n",
       " 'b788fddc-ebf1-475e-94d0-9fa8586f3d30',\n",
       " '125496cb-3bd8-48a6-bdbf-904853b4e9ff',\n",
       " 'f6ae7c03-77df-4063-9fa8-2926b8dd93bf',\n",
       " '395de707-9ebe-478c-94ce-35c3aa075055',\n",
       " '79bb6d7b-6004-48ee-b489-0797d6686b90',\n",
       " '82bf6aa3-df06-4987-a10f-7e037030f0e4',\n",
       " 'ee2b8ef5-6f0a-4aa1-a115-1f4dcecfd941',\n",
       " '4467c9dd-5c24-4f2c-836e-3bb2089ad0b9',\n",
       " '599fc5e7-e3aa-4b09-aa62-27615ac9996b',\n",
       " '7c483240-48d7-40a0-8455-79f5e936acf4',\n",
       " '1e0b16f4-27f8-4f37-96c6-e90d1d87c882',\n",
       " '75a78799-1ca6-4454-a2c6-db0d63b48701',\n",
       " 'fc342cdb-fcc9-4190-afb4-d1b201bb988c',\n",
       " '0525e2fe-fb4e-455a-a497-d7b268d0da9d',\n",
       " '43bd81e3-ff5d-46b1-8c53-9db168635122',\n",
       " '29799fd1-9cf7-48a0-b39f-26ae62596de3',\n",
       " '5a32842d-df60-4e79-8c7d-f67618b8fc15',\n",
       " '0296cf52-476f-423b-af25-7e003c1d4e2a',\n",
       " 'e57ae644-9697-4069-b63a-374bf93aa738',\n",
       " 'b3f81db8-fa55-483f-93ff-fad0508116ed',\n",
       " 'f864ef7b-06d8-4707-af75-adace44f7ffa',\n",
       " '26564b25-29d1-42d6-b18d-fc000df09d4a',\n",
       " 'ab140936-5cc8-4c3a-bb30-8b2c05caa5c3',\n",
       " '87c0b1d0-45cf-4e4e-904e-b11b27e39a99',\n",
       " '9d4ec49f-5c57-4b1e-b4b6-9575e05cae11',\n",
       " '30e87887-c223-41c5-b919-30400672961b',\n",
       " '4a6269da-c366-4cc3-91ec-3f32c1aed6bc',\n",
       " 'd4d51d20-19ff-414b-814f-7a6d0cb9c5c5',\n",
       " 'd783486d-1cac-47a9-8502-6c94009c8c25',\n",
       " '9c8b7485-51b9-4c3e-982a-342df7087062',\n",
       " '53533c2b-d486-46ef-bf33-a1057ede7fe8',\n",
       " 'aba271d2-82e4-4e18-b26d-d651b84a6dfe',\n",
       " 'a22ffd85-f573-4660-b8af-6b3c9d8becbc',\n",
       " 'aad47d2e-a2a3-4ecf-b56d-f5b3aac86ed5',\n",
       " '6cc865a3-4c0a-43d8-b829-37d3c67170f8',\n",
       " '56d27b3a-7833-4210-b92f-60a96e7e8c36',\n",
       " '11f823b8-c8e2-4c74-90d2-5fd1f076d91e',\n",
       " 'a5cb5347-85a8-42bf-9688-135197a9fa94',\n",
       " 'c7b9b58a-4f71-42e0-8258-43c809e55b4b',\n",
       " 'a8a5048e-d375-47a4-a901-a676b80a4b12',\n",
       " '886d2157-018e-4dc0-9b41-eee5b3ada7d9',\n",
       " '326d29d3-080e-49e0-baf1-3a75093ac49e',\n",
       " '8136480c-eaf1-4dd1-a4e2-f8b442ad94b4',\n",
       " '3dd44761-b433-4a64-b25a-55fb1ae64ff1',\n",
       " '95c6b98a-7e86-47fd-afa1-ccc56fe06be6',\n",
       " '1249a79a-4902-465b-9875-c7763596dc96',\n",
       " 'dddcf187-4f4d-4fc2-a791-099c91df86fc',\n",
       " '314c22b2-a2f8-41f7-8586-5f59b9fb1733',\n",
       " '5bcaed8a-f5af-4ac6-a341-3036c73a818f',\n",
       " 'b28ef50b-848b-4d35-8159-9047ce999df2',\n",
       " '29266e42-5c71-4226-b827-03ef04ff7f6c',\n",
       " '55e9e0d7-d3fa-4565-8438-99c23fa4a28f',\n",
       " '8e36ba30-1af9-4476-bae8-53aa457e476f',\n",
       " '03e15877-268e-4d2d-ab2a-1d60c5da72e0',\n",
       " '4d407f50-69f5-48fe-b6a4-cf295cccd5d7',\n",
       " '519a3056-b7b1-4a0b-b31d-6beb9dac9163',\n",
       " '108987b5-d4e0-49a1-9a3d-42cc3edc3993',\n",
       " '35c58ee1-5048-4825-8902-81f4adcf4f14',\n",
       " '44ceb14b-4476-45a3-8f7d-2f296f7d72c6',\n",
       " '8234144e-74c7-4263-b307-a0942296b6d8',\n",
       " '298ac8b7-a045-42a8-a926-debd81a7a763',\n",
       " '2473b34a-0081-4576-b2e5-8828e2a32375',\n",
       " 'cc48ab0f-44e8-4618-abcf-66a0265675dd',\n",
       " 'dd914510-ad39-4158-b98a-4b1da707e490',\n",
       " 'd8155358-0fc4-4918-881d-ca98b27b8268',\n",
       " 'e06511eb-bea7-4a5b-8f89-e47a5ab5fa70',\n",
       " 'a7d9cfd7-b996-4b48-bc44-716246a0e768',\n",
       " '53b474b9-8789-4df4-8200-9528a4a944d3',\n",
       " '22e5b6d4-d0ba-4e21-a923-82296a8f5633',\n",
       " 'fc2bbf5b-6b4c-4635-b430-4ab083118677',\n",
       " '55a5e628-eb1d-419c-a912-aba1e7ae5ca5',\n",
       " '32a0eb70-87d0-47fb-8825-c0155ce93969',\n",
       " 'f798ce7d-de8e-4c9f-90b0-9ff85b8986b8',\n",
       " '40092dff-f4bf-4dfb-864b-b58712eb392f',\n",
       " 'f66b050b-a89c-4230-bb6b-2d5acd2685d9',\n",
       " 'c189335e-9307-4d80-865d-102ca2a39eaf',\n",
       " 'f2593a7e-aea4-4699-843f-6276ac34d60f',\n",
       " '3cc5fee8-774e-4365-a982-3bb1869e8a59',\n",
       " '6561437d-7ab1-4c8c-b56f-a24aab4306cc',\n",
       " 'a1d98dec-b4ba-49f9-973e-f703eb8ebb78',\n",
       " 'db64ca03-9486-4b30-8fda-fcb66c4fa5f7',\n",
       " '058524f0-cae4-41f4-bcc6-bef400e657a2',\n",
       " 'f552d122-3ea4-4c2d-b7cd-e56bcfde80b5',\n",
       " '9ac2e443-e7e6-47e4-aea2-e8a0f7208588',\n",
       " '4ad4f427-7242-4d77-865a-470f24bdf731',\n",
       " 'cd6c88fa-8103-4a46-b774-10b6db35e69e',\n",
       " '6cc60f80-9969-4adf-a27a-57bfb5dac747',\n",
       " '6e681012-ab7d-49eb-ad27-331e96c17ee3',\n",
       " '400895b4-ce75-47b5-86a9-09892b88b4d7',\n",
       " '041462c2-b21e-412c-b24a-bd7c211f2e70',\n",
       " '77ba73a4-0882-4028-9181-aca7f7a84f3e',\n",
       " '4817b82f-a40f-4674-b274-6664cfe3f042',\n",
       " '4f5f4916-23b5-41cb-abd5-8f45100cc8b1',\n",
       " '869e8fa0-a618-4624-af23-af90fd0977e8',\n",
       " '374c2703-8911-4811-8794-ada5c4596a6c',\n",
       " '7013e8c1-6091-49d5-a2c9-0ffcc4184cfa',\n",
       " '658a4f96-e35a-4667-ab34-9011664d97ce',\n",
       " '91f52428-e200-46db-a5bb-6726e17adaeb',\n",
       " 'b7abf827-1133-4d5e-94b9-edeed1387eaa',\n",
       " '2a1f8b1c-57d7-4e83-bb4d-163a3a60c40d',\n",
       " '1bf6178d-95df-4855-b395-6bfa13372799',\n",
       " 'd15e7d25-235d-4eb5-90ae-a2c6caa0003b',\n",
       " '113ba833-0d32-4da7-9c06-b88e4d0ea039',\n",
       " '33bf437c-cc22-41da-b10d-32d8da7c3826',\n",
       " 'b282f73d-09de-4005-8e74-d73087372d48',\n",
       " '8ce20fd4-906d-4e7a-965b-60968befdf03',\n",
       " 'd01bf40e-0c88-4b2f-ae5c-d22e1977ec7b',\n",
       " '3e3f075a-c229-4d50-bf32-6a7b82191c47',\n",
       " 'd25bd449-866c-4e6c-beac-e10cfdd855b6',\n",
       " 'fe258ae3-5269-41bc-8c7a-613ce1809fa7',\n",
       " '03e92408-7845-4605-a4c1-72847244c015',\n",
       " '3df3cbc3-a872-4eb2-9964-3d1f6ab9e6e5',\n",
       " '4283119f-0f0a-408e-a9a9-17bc75b612ee',\n",
       " 'c8fdfe47-0f72-4229-904b-4ce5fc634982',\n",
       " 'a2d83e16-6c9b-4296-8433-6933cef67faf',\n",
       " '8e941ac8-e90c-428f-9fa7-e5f6abc4ea2f',\n",
       " 'c6fe385a-0331-47ab-b104-0a6c630a558c',\n",
       " '113230db-124e-49fa-b50b-8398214a0d3d',\n",
       " '76e6b28c-fca4-46a9-abf3-73d40aceaff3',\n",
       " 'f50f5c6d-7039-46da-9f5e-1708771fa907',\n",
       " 'eca80c80-e531-4977-8a36-dd1c4ce9fd04',\n",
       " '4382d039-8db4-47cd-9a48-b9f41411d0b8',\n",
       " '5ff6f6c0-2697-4989-a4be-a4ada7ef2556',\n",
       " '085420da-b260-45fc-85f6-196a25ef0b51',\n",
       " 'd56d39f9-aadd-4f26-96b4-af8ba931afee',\n",
       " 'f2452257-abdc-40ee-8615-e6bad4f9b524',\n",
       " '6d7243d9-02cf-4e49-98a2-413be953a7d8',\n",
       " 'e6950b9e-9567-426e-8ea3-2645414bfd3c',\n",
       " 'a631e7c8-1b91-437e-972b-efcfe8d95e03',\n",
       " 'dc8f2530-f609-4949-a6b6-681cb110e84b',\n",
       " '8f7e91bc-4bbe-42b5-9bd5-b5115d762a2e',\n",
       " '524bcd4b-5072-4052-ad1a-0461f38f0b17',\n",
       " '091c0bc8-75dd-4bf5-b922-52ef55a79027',\n",
       " 'dff6b3ad-5193-49f4-84c7-3fe5f78225a6',\n",
       " 'fd0d8057-9581-4c81-83b1-7e403544a1ba',\n",
       " '244ce0a5-b706-4cee-af10-00fdfab9078e',\n",
       " 'b374f9a5-54f0-4017-a90e-b3d47a215946',\n",
       " 'b6a50331-a667-40df-9dea-fdfca812aabc',\n",
       " '4f206cfe-976f-40a3-9b32-c1225bc4d4e1',\n",
       " '553e0583-d9e6-4166-9241-d17bccb94622',\n",
       " '7ed67857-d34c-4cb5-b2c1-d312b5cf11e0',\n",
       " 'd1b95772-dcc8-41e9-a6c8-a1a9e568bfb9',\n",
       " 'ef5540d0-e2b4-46d6-810f-880900c1158c',\n",
       " '1073fab2-7d07-466f-ad73-bb243f56a961',\n",
       " '87447874-3211-44ff-b9b1-addf6bb96413',\n",
       " 'ea02a15a-288b-43c2-9fdc-481dd8b8494a',\n",
       " 'b9fa2d65-a015-4d6a-8c5a-bf99782e5d0b',\n",
       " 'b7a9e31e-68f2-408c-b55a-62599dbbb501',\n",
       " '0315f2c9-0a56-46ea-8e2f-8ce34a19b4c0',\n",
       " 'eb52704e-1b81-4e04-80e1-f543a0e0f59b',\n",
       " '65e7a5cc-5bd9-4f3e-bbd7-f0182aa1e9b7',\n",
       " '7cf2962a-6577-47b1-896a-950432971c6b',\n",
       " '4a2598e3-f0e5-418a-b08a-b651776e511e',\n",
       " 'd67a3577-246b-43df-926b-eeb2b70cb692',\n",
       " '3bb76f75-9158-46d1-ba0c-8b780f27e2ac',\n",
       " '68a1c66c-de17-468e-9f20-86c29c3399a8',\n",
       " '88771ba2-2347-425c-adbb-6d011365f0b7',\n",
       " '5e0c9382-e47b-4cbc-84ff-dd874472f851',\n",
       " 'fc91f15d-7bdf-4715-b38a-887877da9e54',\n",
       " 'bfe98d59-b184-4f08-8aa8-ead371625365',\n",
       " '0352a863-0ef0-4080-9891-039121fd35db',\n",
       " '158a41ce-f78b-4eb2-a9be-15869f0a4e21',\n",
       " 'dcab75cd-db7d-431b-a9d0-e6b3d03e2e14',\n",
       " '1431b3dd-3c74-45eb-abb4-047c7d64a2e3',\n",
       " '062639a6-a2d1-4f1e-a3c9-7a6f81eb3789',\n",
       " '0cce0925-2c5a-4aed-b2db-ed5531152948',\n",
       " '05eee4e3-7bb5-456f-a15b-75190e201542',\n",
       " 'e167ffc0-98b0-41fb-b5c2-c2ffc8be77b7',\n",
       " 'f84d596f-9fce-4fcc-bac7-90620330e651',\n",
       " 'f666a7bf-278c-40ed-a4f3-7550a0672a82',\n",
       " '4c6a9479-f1af-4272-a4de-53f7a8516c13',\n",
       " 'c030f55a-fa33-4403-bc60-2df72e9eabbb',\n",
       " 'fe0cb413-b5f7-4d0b-a7ff-2a5230bf7979',\n",
       " '5c032b5e-5eb5-49ac-a5b5-a6d9c92a3141',\n",
       " 'b475cbdb-b3e7-4816-9a5a-3473d90bef06',\n",
       " 'aae466ef-53ba-4b50-abe6-9a1bb2f2bbdc',\n",
       " '851eb680-53dd-4159-a072-2a4ae135e485',\n",
       " 'df881168-f21d-417a-aa98-74a221998bd6',\n",
       " '103b0009-ff72-4fe5-bb95-f7580243f6b6',\n",
       " 'd97d04ef-312e-44c0-89d0-50e703af4357',\n",
       " '89cc0c74-601c-456b-a249-8d74b77d5503',\n",
       " '6e561134-fa4e-4cd7-9537-94a2c6bdc0b8',\n",
       " '211118de-a2eb-45fe-b4db-e5e6c8fe83dc',\n",
       " 'd1ca756a-f45b-407c-a3ca-5ae9e3e5187b',\n",
       " 'f572e87b-13b9-4b1b-95f9-e0e106532626',\n",
       " 'f67fcc5c-9d5d-4658-b059-6e45c38f6619',\n",
       " 'cdf66c7b-3a82-4abd-8814-6b68715cec8c',\n",
       " '29cf09e2-d1e5-4bf5-9a12-c4f26faa5e5e',\n",
       " 'dfa2038f-9b9e-4699-9bb5-e3051bab4611',\n",
       " '627f1a09-47b8-4889-9e5c-399ffff15cc0',\n",
       " 'cc416a95-5b64-48cc-b09d-b52c27b90954',\n",
       " '4574bb15-e340-48a3-92ba-e91e2f48aa92',\n",
       " 'c493a205-bc10-4ebb-a8c9-f11bf629efc7',\n",
       " 'eedf616f-67e4-48a8-9b74-29a26f8ec8d2',\n",
       " '2d5eb803-f140-4924-ad4c-45d7725f9358',\n",
       " '8b96f088-e7a4-4b8c-a04c-31d3eb5d7db8',\n",
       " '0c17bc88-2be0-4f8e-a8b5-218b77f58c58',\n",
       " '792ef3e7-7d03-4116-8229-102a86257ea5',\n",
       " '943fef6d-f47c-461f-af1e-ee68a2314d1c',\n",
       " 'c6a3fdab-e805-44eb-bfb8-01ba4b9ab0c3',\n",
       " 'd9b4c2f2-98ca-45e8-8e64-195596565563',\n",
       " 'd06c5ba9-bdc5-4643-9cb6-5d66c0124e32',\n",
       " '9ef0b652-a026-42dd-8e57-c59117f6aba7',\n",
       " '246b3ed7-e574-489a-8ab7-bbb8b2edb7ca',\n",
       " 'e4964714-b74f-4568-b332-46da05c87925',\n",
       " '777d5fe6-8a76-435f-8e45-5973f14310bf',\n",
       " 'e2402410-a8c2-457c-b610-ffe9470ed638',\n",
       " '0c6ee454-900f-4750-a8f3-034aa37d97b5',\n",
       " '51589791-cd5f-4085-9893-0a8db246a58f',\n",
       " '8b21238f-68c3-44cc-ba5a-89aff28fa8fd',\n",
       " '86d1667f-1ccc-4a93-bdae-e179a8556396',\n",
       " 'ede0aa8f-5cad-495a-8150-fec918923fca',\n",
       " 'ebe31491-272a-42a7-b2b0-c8a3fd0b0fc5',\n",
       " '8e25febf-bea4-415f-a424-901a780f5885',\n",
       " 'aed94796-9420-4469-8579-dd743b0cfc09',\n",
       " '0a9d3967-65b5-40f4-b3b0-e50f59534c84',\n",
       " 'cb04e2cc-262d-43eb-8748-5fecba2ce679',\n",
       " 'b3339f02-8485-4162-89ea-e31e7dac41c2',\n",
       " '4356e403-f0c8-4826-bb0f-6b284dcf0056',\n",
       " 'd05c2bad-d92c-41e0-bb85-1806d480bf4d',\n",
       " '7d27d0a4-8cfd-4299-b3f1-9ecc12a3f8dc',\n",
       " 'a5fbaf0a-b286-4a0e-b2eb-171668abcea7',\n",
       " '143b64a3-d302-4c6e-bd95-76530f8aaa90',\n",
       " '85c5c1e3-1236-4fff-afcd-f4e83a2c6d05',\n",
       " 'b0c312fe-2847-49d0-8766-df6761cb0b36',\n",
       " '6648da8c-0858-406c-86fb-cdb7d381998c',\n",
       " 'aad18c4d-04d5-449c-bef8-61a61b194ca0',\n",
       " '022a0f4a-9fdc-4468-a66e-825e7110a6d9',\n",
       " '3914f1c4-d6fb-4f74-93a6-982f8bfe4056',\n",
       " '48a42bd4-cb75-44d8-a970-f8ca8059333b',\n",
       " 'f6911d79-5883-4da6-b818-71ba93bb6eae',\n",
       " 'a0d1c8a6-7b89-4c34-b308-0743070e9576',\n",
       " '1f792290-1c27-4966-829f-7a26d7871533',\n",
       " '3ef8479e-8872-4d2b-8779-122925e6cd26',\n",
       " '3eaec319-7683-4f63-853b-46699301a52c',\n",
       " '8980296d-4a6a-4a79-9de4-e7eca8a30f1f',\n",
       " 'deaa0b26-7cec-4d33-8b49-28e42361b347',\n",
       " 'ef4f60be-ea80-47a1-8cee-c323123ea771',\n",
       " '7b0c9992-1c27-4cf1-8bd0-2b9fde97f34e',\n",
       " 'b89bb367-6a63-4896-9964-54e0ac3dcd09',\n",
       " 'eae18e44-c974-4d5e-9180-387dae1cb539',\n",
       " '772a6b88-d7ac-41fa-a761-7586f89366a1',\n",
       " 'fc373a8a-5946-4cb5-9a18-2b57633fa262',\n",
       " '5b4c78da-1fc1-4e5c-8645-6f596d2fcd48',\n",
       " 'cdb201ee-a226-486b-9630-4b8625ff3bce',\n",
       " 'd7e41afd-7219-4f2e-b8c6-1ab61335c07c',\n",
       " '924a4549-dc2a-4902-a9f6-0da6987d25fc',\n",
       " '67c93057-bc5e-4657-a28d-05c0c1d735a3',\n",
       " 'cdf294a8-7a10-41eb-a95c-4d9d05174e22',\n",
       " 'ff1af1b6-5d6a-4a0e-a060-893ba6aa6639',\n",
       " '93d74b1d-ba99-46d5-b6da-d49020c2fca3',\n",
       " '1c68e935-5f9c-4284-a94a-d26144cb522b',\n",
       " 'dae34322-1a59-40ab-981a-963b24175563',\n",
       " '344ca4eb-f62d-45b1-9989-70acd83c1316',\n",
       " '7c6fc2da-1811-4bf4-b318-25ebf92dc95c',\n",
       " '8ab997a0-2608-4863-a49f-191d7299f3f2',\n",
       " '56a074e5-1f37-4166-a6ac-b3e56533371b',\n",
       " 'afc23fc4-ac3e-42b7-bb68-4d6b4da6a1f7',\n",
       " 'bfbddd92-4541-42fe-82fb-3dda7d790dab',\n",
       " '21f797b3-197d-41b2-84f7-93506115d328',\n",
       " '92f2c79a-f186-419a-90d1-02a7bf8e7c5c',\n",
       " 'c9d1b6cb-2ac3-437d-a9a7-c3c5ba208b00',\n",
       " '7cb44b7d-51da-47c3-a46a-663b5367f4fe',\n",
       " '57e6bf7b-1693-40f6-80ba-b1413528e27e',\n",
       " '45a87118-c11f-40ee-a5a6-1f193eb34878',\n",
       " 'ad2c081b-27a8-49c4-909a-3ab7b454601a',\n",
       " '002e200f-1a20-42ac-9eed-43f58644f52f',\n",
       " '3ae901f3-b27d-48c0-9200-85e093683440',\n",
       " '884e9145-7342-44cc-865d-e7944f492310',\n",
       " 'abd36a76-7345-49ca-a2e2-c059c1117b8f',\n",
       " 'd3fd11be-a279-4bd0-8fee-87c6a223aa6d',\n",
       " 'd9415f84-d9bd-40c4-9099-dbc404513f13',\n",
       " '8f809381-8871-4c00-85d0-09219841ed32',\n",
       " '331502cb-d288-4080-bb0b-8ba82ed4cd1b',\n",
       " '91a10135-1e5f-4a71-a626-2a87eaf255b0',\n",
       " '0cf87e5f-b677-4927-93cc-5d8a189533de',\n",
       " 'fb0d201a-2209-4e5e-b1b8-dba7eea0ef32',\n",
       " 'c6fc2021-eb6c-40cc-a864-804b0a84c459',\n",
       " '8a3f754d-f9a8-4123-ab4b-553aa479bae8',\n",
       " '616720c9-375c-4b61-8f50-11157e17a039',\n",
       " '3bdddc21-8484-49f8-9b6f-cc9ae318383d',\n",
       " 'b5b24868-6f44-45bc-a489-9af3793868fc',\n",
       " '18d75637-9173-4977-8453-7d21d28aef3f',\n",
       " '0d816989-53e0-4eb3-94bc-84e14e38639f',\n",
       " '14e88da0-534a-4c33-8087-c2042b643328',\n",
       " 'c7cd75a6-6e9c-43c1-b658-65f84fd99f62',\n",
       " 'dd919885-5f5e-47b3-a231-5e394eacf886',\n",
       " '272a4070-8bbe-464f-afaf-36bbed47d6d3',\n",
       " 'f63006de-b1f8-4a79-9f00-e790242d0031',\n",
       " 'f4cc30af-4853-41d4-b61a-146fa615a0b1',\n",
       " '05d64d05-2979-496a-b264-e4914c3883db',\n",
       " '36927bfa-9234-46d8-aaee-4f4456e5bdeb',\n",
       " '216e8394-18fa-4083-b20d-ad9fff64d92a',\n",
       " '127c36b6-a98a-4dc5-857d-69442a32408b',\n",
       " 'e2273b83-5988-424c-943e-1e1a97d83ec2',\n",
       " '2fe951c3-71b3-4d31-9acd-dfb21a9f9c99',\n",
       " 'd8c053b9-06cf-4204-883d-814bf5531171',\n",
       " 'da4cebfb-03ad-4cb4-b25e-9b298585a86c',\n",
       " '34322d6b-9702-426c-b173-2b490fa2d11d',\n",
       " '4abfba61-a2af-453e-8a35-78deb068afeb',\n",
       " '451ddd0e-9340-45a4-9055-bac78a77587c',\n",
       " '3cb8a510-388a-4c6d-98b3-6d2c7da3bef0',\n",
       " '7daeb4b8-849a-4f5d-9539-dc8a7e4b6af8',\n",
       " 'a75c4376-1e0a-4170-8a72-0c553f1073e1',\n",
       " '583ac831-7fab-428f-bbec-95e46187a02f',\n",
       " '293b9b61-e47f-4a1b-9916-8d5c3f35f619',\n",
       " '22a958ea-df35-4d02-b3a7-0e7bea86b771',\n",
       " 'ab58ca9c-a6d9-4a58-9eee-d0987d7dd4b8',\n",
       " 'ca97b958-4759-44f0-88bc-17ead2fc0eeb',\n",
       " 'a39b947b-29b7-4a8d-8b34-734630004955']"
      ]
     },
     "execution_count": 3,
     "metadata": {},
     "output_type": "execute_result"
    }
   ],
   "source": [
    "db.vectorstore.add_documents(docloader.crawled_csv_to_list_of_docs(dir=LOTUSCRIPT_DATA_DIR))"
   ]
  },
  {
   "cell_type": "code",
   "execution_count": 4,
   "metadata": {},
   "outputs": [],
   "source": [
    "# db.vectorstore.search(\"lotuscript\", search_type=\"similarity\")"
   ]
  },
  {
   "cell_type": "code",
   "execution_count": 5,
   "metadata": {},
   "outputs": [],
   "source": [
    "# Init your retriever.\n",
    "retriever = db.vectorstore.as_retriever(\n",
    "    search_type=\"similarity\",  # Also test \"similarity\", \"mmr\"\n",
    "    search_kwargs={\"k\": 3},)"
   ]
  },
  {
   "cell_type": "code",
   "execution_count": 6,
   "metadata": {},
   "outputs": [],
   "source": [
    "from langchain.prompts import PromptTemplate\n",
    "from langchain.chains import RetrievalQA\n",
    "from llm import Codey\n",
    "\n",
    "# LLM\n",
    "code_llm = Codey()\n",
    "\n",
    "# RAG template\n",
    "prompt_RAG = \"\"\"\n",
    "    You are a proficient voltscript developer. Respond with the syntactically correct code for to the question below. Make sure you follow these rules:\n",
    "    1. Use context to understand the APIs and how to use it & apply.\n",
    "    2. Do not add license information to the output code.\n",
    "    3. Do not include colab code in the output.\n",
    "    4. Ensure all the requirements in the question are met.\n",
    "\n",
    "    Question:\n",
    "    {question}\n",
    "\n",
    "    Context:\n",
    "    {context}\n",
    "\n",
    "    Helpful Response :\n",
    "    \"\"\"\n",
    "\n",
    "prompt_RAG_tempate = PromptTemplate(\n",
    "    template=prompt_RAG, input_variables=[\"context\", \"question\"]\n",
    ")\n",
    "\n",
    "qa_chain = RetrievalQA.from_llm(\n",
    "    llm=code_llm, prompt=prompt_RAG_tempate, retriever=retriever, return_source_documents=True\n",
    ")"
   ]
  },
  {
   "cell_type": "code",
   "execution_count": 9,
   "metadata": {
    "tags": []
   },
   "outputs": [
    {
     "name": "stderr",
     "output_type": "stream",
     "text": [
      "huggingface/tokenizers: The current process just got forked, after parallelism has already been used. Disabling parallelism to avoid deadlocks...\n",
      "To disable this warning, you can either:\n",
      "\t- Avoid using `tokenizers` before the fork if possible\n",
      "\t- Explicitly set the environment variable TOKENIZERS_PARALLELISM=(true | false)\n"
     ]
    },
    {
     "name": "stdout",
     "output_type": "stream",
     "text": [
      " ```voltscript\n",
      "Sub Click(Source As Button)\n",
      "    Dim answers As Variant\n",
      "    Dim doc As NotesUIDocument\n",
      "    Dim questionElements(1 To 5) As String\n",
      "    questionElements(1) = 'question_1'\n",
      "    questionElements(2) = 'question_2'\n",
      "    questionElements(3) = 'question_3'\n",
      "    questionElements(4) = 'question_4'\n",
      "    questionElements(5) = 'question_5'\n",
      "    Forall element In questionElements\n",
      "        Set selectedRadio = doc.GetObject(element)\n",
      "        If selectedRadio.IsChecked Then\n",
      "            Call answers.AppendToTextList(element, selectedRadio.Value) ' Associate question with answer\n",
      "        Else\n",
      "           ' Handle cases where no radio button is selected (optional)\n",
      "            Print 'No answer selected for question: ' + element\n",
      "        End If\n",
      "    End Forall\n",
      "    Set resultInput = doc.GetObject('result')\n",
      "    resultInput.Value = answers.Text ' Set the result field's value\n",
      "End Sub\n",
      "```\n",
      "[[Document(page_content='\\nLesson 1: Printing the title of a database\\n\\n\\nLesson 1 creates a script that displays the title of a\\ndatabase when a user clicks an action. You should already have created\\na sample discussion database called \"Learning LotusScript®.\"\\n Step\\nA: Create an action  The script that you create in this\\nlesson will run whenever the user clicks the action. \\nOpen the \"Learning LotusScript®\"\\ndatabase if it does not appear in the Design pane.   \\nSelect \"Forms\" in the Design pane, then open the \"Main Topic\"\\nform in the Work pane. The form appears at the beginning of the Work\\npane. The Programmer\\'s pane appears.\\nChoose Create - Action. The Action properties box appears.\\nIn the Action properties box, name the action \"Display title.\"\\nClose the properties box.   \\nSelect LotusScript® from\\nthe Run menu in the Programmer\\'s pane.\\nSelect \"Click\" from the list of programmable events on the Objects\\ntab if it is not already selected.\\n \\n Step\\nB: Access the Reference tab  The Info List appears in the\\nProgrammer\\'s pane. It contains two tabs, the Objects tab and the Reference\\ntab. If you can\\'t see the Reference tab, drag the bar separating the\\ntwo sides of the Programmer\\'s pane. The Objects tab contains events\\nand objects that can be programmed and the Reference tab contains\\ninformation about using Notes® classes,\\nproperties, methods, and the LotusScript® language.\\nIn this step you learn that: \\nA Notes® class is a way\\nof representing something from the \"real world\" within a script. For\\nexample, a database is something from the real world that interacts\\nwith Notes®; to represent it\\nin a script, you use the NotesDatabase class.\\nA property is an attribute of a class. For example, all databases\\nhave a title, so the NotesDatabase class has a Title property.\\nA method is a behavior or action of a class. For example, a database\\ncan replicate with another database, so the NotesDatabase class has\\na Replicate method. When you use a particular class, its properties\\nand methods are available to you.\\nThe LotusScript® language\\nis related to, but not the same as, the Notes® classes. The classes provide an interface\\nto Domino® from within a script.\\nThe language provides you with a syntax for declaring variables, creating\\nconditionals and loops, and performing operations such as arithmetic.\\nWithout the Notes® classes, LotusScript® is unable to\\naccess anything in Notes®.\\n The following steps do not create anything. They are just\\nto familiarize you with the Domino® classes. \\nIn the Programmer\\'s pane, click the Reference tab.\\nDrag the edges of the Info List if you want to make the pane larger.\\nSelect \"Domino®: Classes\"\\nfrom the drop-down menu. The Reference tab displays the classes available. \\nUse the scroll bars to look at the classes available to you. You\\nshould recognize many of the class names as things you have used in Domino®.\\nExpand the NotesDatabase class by clicking the twistie.\\nExpand Properties under NotesDatabase class.   \\nExpand Methods under NotesDatabase class.\\nNow select \"LotusScript® Language\"\\nfrom the drop-down menu.\\nExpand All. The Reference tab displays different parts of the LotusScript® language. \\nScroll through the list of LotusScript® functions.\\nFind Dim and Messagebox.\\n \\n Step\\nC: Enter the script  You\\'re ready to enter the script. Go\\nto the Programmer\\'s pane and edit the subroutine so that it looks\\nexactly like this. Case does not matter, but the Programmer\\'s pane\\nenforces initial capitals for LotusScript® keywords\\n(but not the names of classes, properties, and methods). The consecutive\\nquotation marks (a set of two on line 3 and two sets of four on line\\n4) have no intervening spaces. Sub Click(Source As Button)\\n    Dim db As NotesDatabase\\n    Set db = New NotesDatabase( \"\", \"Learning LotusScript.nsf\" )\\n    Messagebox \"\"\"\" + db.Title + \"\"\"\",, \"Title of database\"\\nEnd Sub This is how the code looks in the Programmer\\'s\\npane.    \\n Step\\nD: Compile and test the script  Compiling is the process\\nby which a script is translated into executable code. Domino® compiles the action script when you\\nsave, or close and save the document it\\'s on.  \\nChoose File - Save.\\nIf you get the message \"Data not saved due to script error(s),\"\\ncheck the error at the end of the Programmer\\'s pane, then double-check\\nyour typing to make sure that the script looks exactly like the one\\nin Step C.\\nChoose Design - Preview in Notes®.\\nAlternatively, you can open the database in the Notes® client and open or create a document\\nbased on the \"Main Topic\" form.\\nClick the \"Display title\" action on the action bar. Notes® displays a dialog box that says \"Title\\nof database\" and \"Learning LotusScript®.\"\\nSuccess!A common error is to not specify the name of the database\\ncorrectly. If you do that, \"db\" will represent an empty NotesDatabase\\nobject. If the Title property displays as an empty string, ensure\\nthat the file name of the database in the script is correct and the\\nserver name is two consecutive quotation marks (no spaces). Fix the\\nscript, recompile, and test it again. \\nWhen you are finished, go back to Domino® Designer\\nand close the \"Main Topic\" form.\\n \\n Step\\nE: Edit the script  You may not need to edit your script\\nafter saving it, but if you do, here\\'s how. \\nOpen the \"Learning LotusScript®\"\\ndatabase if it does not appear in the Design pane.\\nSelect \"Forms\" in the Design pane, then open the \"Main Topic\"\\nform in the Work pane.\\nIf the actions do not appear, adjust the edge of the pane until\\nyou can see the names of the actions.\\nSelect the \"Display title\" action.\\n \\n Review:\\nHow did the script work?  The lines of script you entered\\nmean: I want to access the \"Learning LotusScript®.nsf\" database on my local\\ncomputer, and I want to use the name \"db\" to refer to this database.\\nThen I want to display the title of the database. \\n Line\\n1: Begin a subroutine  Sub Click(Source As Button) defines\\nthe beginning of the subroutine. Domino® creates\\nthis line for you. \\n Line\\n2: Declare an object variable  Dim db As NotesDatabase declares\\na variable called db as an instance of the NotesDatabase class. Whenever\\na variable is declared as an instance of a class, it\\'s called an object.\\nThe variable name db is your invention. \\nDim tells LotusScript® that\\nyou are declaring an object variable. You use Dim (along with As)\\nany time you declare a variable. For example: Dim x As Integer Dim\\nname As String Dim view as NotesView\\ndb is the name of the object.\\nNotesDatabase is the name of the class.\\n \\n Line\\n3: Set the value of the object   Set db = New NotesDatabase(\\n\"\", \"Learning LotusScript®.nsf\")\\nsets the value of the object db so that it refers to the \"Learning LotusScript®.nsf\" database\\non the local computer. \\nSet db = tells LotusScript® that\\nyou want to set db equal to the value returned by New.\\nNew tells LotusScript® that\\nyou want to construct a new object.\\nNotesDatabase tells LotusScript® that\\nthe new object should be an instance of the NotesDatabase class.\\n\"\" and \"Learning LotusScript®.nsf\"\\nare parameters that tell New how to create the object you want. The\\nfirst parameter is the name of the server; here it\\'s an empty string,\\nwhich means that the database is on your local computer. The second\\nparameter is the file name of the database.\\n \\n Line\\n4: Display a property of the object in a dialog box  Messagebox\\n\"\"\"\" + db.Title + \"\"\"\",, \"Title of database\" gets the title of the\\ndatabase and displays it in a dialog box. \\nMessagebox is a LotusScript® language\\nstatement. The commas separate parameters. The plus signs concatenate\\nstrings. Messagebox displays the first parameter in a dialog box and\\ndisplays the third parameter as a header for the box. The second parameter\\nis not used.\\ndb.Title returns a string containing the title of the database.\\nTitle is a property defined in the NotesDatabase class. To access\\nor modify a property in a script, you need three things:\\nThe name of the object, such as db\\nA dot, or period (.)\\nThe name of the property, such as Title\\n \\n\"\"\"\" + db.Title + \"\"\"\" puts quotation marks around the title.\\nQuotation marks delineate string literals. If you want a quotation\\nmark inside a string literal, you double it. The plus sign means concatenation.\\nSo this means one quotation mark followed by the title followed by\\none quotation mark.\\n\"Title of database\" is a string literal. It will appear as the\\nheader of the dialog box.\\n \\n Line\\n5: End the subroutine  End Sub defines the end of a subroutine.\\nThis is where the script finishes. Domino® creates\\nthis line for you. \\n Do\\nit on the Web  LotusScript® cannot\\nrun in a browser. If you preview the \"Main Topic\" form in a browser,\\nyou will see that the \"Display title\" action is missing. This is because\\nit is in LotusScript® and Domino® will not transmit it to\\na browser. The only way you can run LotusScript® through a browser is to write\\na Domino® agent and activate\\nit from the browser with the RunAgent or ToolsRunMacro @commands or\\nthe OpenAgent URL command. However, it is important to know that the\\nagent executes on the Domino® server\\ncontaining the agent, not in the browser. \\n Create\\nan agent  Agents constitute another category of design elements,\\nindependent from forms. \\nSelect \"Agents\" in the Design pane, then click \"New Agent.\" The\\nAgent Properties box appears. The Programmer\\'s pane appears next to\\nit.\\nName the agent \"Display title.\"\\nSelect the \"Shared\" option.\\nIn the Runtime section click the \"On event\" trigger and select\\n\"Agent list selection\" from the drop-down box.\\nSelect \"None\" for the target.\\nSelect LotusScript® from\\nthe Run menu in the Programmer\\'s pane.\\nSelect \"Initialize\" from the list of programmable events on the\\nObjects tab.\\n \\n Enter\\nthe script  Edit the subroutine so that it looks exactly\\nlike this. Sub Initialize\\n    Dim db As NotesDatabase\\n    Set db = New NotesDatabase( \"\", \"Learning LotusScript.nsf\" )\\n    Print \"<B>Title of database<HR>\"\"\" + db.Title + \"\"\"</B>\"\\nEnd Sub In an agent, use Sub Initialize for the executable\\ncode. The Dim and Set lines are the same as in the action you wrote\\nto run on the Notes® client.\\nThe Print line differs. When you activate a LotusScript® agent from a browser, its\\nPrint statements write back to the browser on a new page. The Print\\nstatement in this script: \\nOpens a new page in the browser\\nDisplays in bold \"Title of database\" followed by the title of\\nthe database on the next line. Since this text is going to a browser,\\nthe HTML tags <B> (bold), <HR> (hard return), and </B>\\n(end bold) are interpreted.\\n \\n Adjust\\nthe agent properties  You should adjust several properties\\nfor Web agents. \\nSave and close the agent. Notice that the name of the agent is\\n\"(Display title).\" The title is in parentheses because the agent is\\nhidden from the user, the result of selecting the trigger \"Agent list\\nselection.\"\\nEnsure that the agent is highlighted and choose Agent - Agent\\nProperties. The properties box for the agent opens.\\nClick the Design tab.\\nCheck \"Run Agent as Web user.\" For identification and security,\\nyou usually want the agent to run with the browser login name. This\\nis Anonymous or a user name in the Domino® Directory.\\nOtherwise, the agent runs with the name of its creator.\\nClose the Agent properties box.\\n \\n Create\\nan action  Now you need to create the form action. \\nOpen the \"Main Topic\" form.\\nChoose Create - Action.\\nIn the Action properties box, name the action \"Display title.\"\\n(You can have multiple actions with the same name.)\\nOn the \"Action Hide When\" tab, check \"Notes® R4.6 or later\" so this action does not\\nshow up in the Notes® client.\\nClose or move the properties box.\\nSelect Formula from the Run menu in the Programmer\\'s pane.\\nAdd the following formula to the Programmer\\'s pane. Ensure that\\nthe name of the agent is exact and includes the parentheses.@Command([Runagent]; \"(Display title)\") \\n \\n Test\\nit on the Web  You can test a local database in a browser\\nby using \"localhost\" for the host name. If you use a proxy server,\\nensure that \"localhost\" is on the list of hosts that do not use the\\nproxy server. \\nChoose File - Save.\\nIf you get an error at the end of the Programmer\\'s pane, double-check\\nyour typing to make sure that the formula is correct.\\nChoose File - Database - Access Control. Select \"Anonymous\" from\\nthe list of people, servers, and groups. Change the access to \"Author\"\\nand check \"Create documents.\" Click OK.\\nChoose Design - Preview in Web and the name of your browser. Alternatively,\\nyou can open the browser and enter the OpenForm URL command, for example: http://localhost/Learning+LotusScript.nsf/MainTopic?OpenForm You\\nmay have to use Design - Preview twice or follow the URL command with\\none Design - Preview to force the browser to access your test database. \\nClick the \"Display title\" action on the action bar. The browser\\nopens a new page that says \"Title of database\" and \"Learning LotusScript®.\" Success!\\n \\n Challenge:\\nDisplaying the file name of a database  Using what you have\\nlearned, write a script that prints the file name of the \"Learning LotusScript®\" database. \\nOpen the \"Main Topic\" form in the \"Learning LotusScript®\" database.\\nCreate an action and give it a name.\\nIn the Programmer\\'s pane, select LotusScript® from the Run menu.\\nOn the Reference tab, select Domino®:\\nClasses.\\nFind a property in the NotesDatabase class that allows you to\\nget the file name of a database.\\nUsing what you have learned, write the script.\\n \\n Solution:\\nDisplaying the file name of a database  The FileName property\\nin the NotesDatabase class provides you with the information you need.\\nYou can access it the same way that you accessed the Title property:\\nwith an object, followed by a dot, followed by the property name.\\nOne way to complete the script is like this: Sub Click(Source As Button)\\n    Dim db As NotesDatabase\\n    Set db = New NotesDatabase( \"\", \"Learning LotusScript.nsf\" )\\n    Messagebox db.Filename,, \"File name of database\"\\nEnd Sub \\n\\n\\n'), Document(page_content='\\nButton (LotusScript®)\\n\\n\\nRepresents an action, action hotspot, or button on a form\\nor document.\\n Note: This class is not supported in COM. \\nEvents   Click   ObjectExecute  \\nAccess  To\\naccess an action, action hotspot, or button, write a script that responds\\nto one of its events. A Button object has no properties or methods. \\n Usage  The\\nButton, Field, and Navigator classes provide entry points to scripts\\nfrom the Notes® UI. So do NotesTimer,\\nNotesUIDatabase, NotesUIDocument, and NotesUIView.    \\n\\n\\n\\n'), Document(page_content='\\nLesson 3: Sending an e-mail message\\n\\n\\nThis is the third of three lessons designed to introduce\\nyou to using the LotusScript® language\\nin Domino®. You should already\\nhave completed Lessons 1 and 2.\\nLesson 3 helps you create a script that makes and sends an e-mail\\nmessage. The script runs when a user chooses an action on a form.\\n Step\\nA: Create a form action  Users can invoke a form action\\nany time a document is displayed with the form. \\nOpen the \"Learning LotusScript®\"\\ndatabase if it does not appear in the Design pane.\\nSelect \"Forms\" in the Design pane, then open the \"Main Topic\"\\nform in the Work pane. The form appears at the beginning of the Work\\npane. The Programmer\\'s pane appears.\\nChoose Create - Action. The actions appear on the screen, and\\nthe Action properties box appears.\\nIn the Action properties box, name the action \"Request more info.\"\\nClose or move the properties box.\\nSelect LotusScript® from\\nthe Run menu in the Programmer\\'s pane.\\nSelect \"Click\" from the list of programmable events on the Objects\\ntab if it is not already selected.\\n \\n Step\\nB: Enter the script  \\nEdit the subroutine so that it looks exactly like this (except\\nfor capitalization, which does not matter).Sub Click(Source As Button)\\n    Dim db As NotesDatabase\\n    Dim doc As NotesDocument\\n    \\' get the database\\n    Set db = New NotesDatabase( \"\", \"Learning LotusScript.nsf\" )\\n    \\' create a new document in the database\\n    Set doc = New NotesDocument( db )\\n    \\' set the new document\\'s form so it\\'ll be readable as a mail memo\\n    doc.Form = \"Memo\"\\n    \\' set the new document\\'s subject\\n    doc.Subject = \"Request for info\"\\n    \\' set the new document\\'s body\\n    doc.Body = \"Please send me more information about this.\"\\n    \\' mail the new document\\n    Call doc.Send( False, \"Reuben Jordan\" )\\nEnd Sub \\nIn the second-to-last line of the script, change the second parameter\\nof the Send method from \"Reuben Jordan\" to your name.\\n \\n Step\\nC: Compile and test the script  Do the following: \\nChoose File - Save.\\nIf you get the message \"Data not saved due to script error(s),\"\\ncheck the error at the end of the Programmer\\'s pane, then double-check\\nyour typing to make sure that the script looks exactly like the one\\nin Step B.\\nChoose Design - Preview in Notes®.\\nAlternatively, you can open the database in the Notes® client and open or create a document\\nbased on the \"Main Topic\" form.\\nClick the \"Request more info\" action on the action bar. The script\\nsends mail to you.\\nCheck your mail database to make sure the memo is sent. This may\\ntake awhile depending on your mail system.\\n \\n Step\\nD: Edit the script  You may not need to edit your script\\nafter saving it, but if you do, here\\'s how. \\nOpen the \"Learning LotusScript®\"\\ndatabase if it does not appear in the Design pane.\\nSelect \"Forms\" in the Design pane, then open the \"Main Topic\"\\nform in the Work pane.\\nIf the actions do not appear, drag the outline edge of the pane\\nto the left until you can see the names of the actions.\\nSelect the \"Request more info\" action.\\n \\n Review:\\nHow did the script work?  The script you just created means:\\n\"I want to create a new document in the database, set the value of\\nsome of its items, and mail it.\" The script is commented in\\nStep B. In addition, notice the following: \\nThe script responds to a click event on a form action. It will\\nalso respond to a user who chooses the action from the Notes® client menu.\\nUsing New with the NotesDocument class actually creates a new\\ndocument. This behavior is different from that of NotesDatabase, where\\nNew does not actually create a new database.\\nThe script creates and sets the value of several items on the\\ndoc object by treating their names as properties of doc. For example,\\ndoc.Form = \"Memo\" creates an item called Form on the new document\\nand sets its value to \"Memo.\" The item is of type text, since \"Memo\"\\nis a string. If a Form item already existed on the document, this\\nstatement changes its value to \"Memo.\"\\nSend is a method in the NotesDocument class that mails a document.\\nIt does not have a return value so you call it as a subroutine.\\n \\n Challenge:\\nSending an e-mail message to the author of the current document  The\\nscript you just wrote sends mail to you, regardless of what document\\nis currently open in the database. Modify the script so that it sends\\nmail to the author of the current document. To do this, you\\nneed a way to access the current document (the one that\\'s open on\\nthe workspace when the user clicks the \"Request more info\" button\\non the action bar). So far, you\\'ve used the NotesDocument class to\\nrepresent documents stored in a database. This class can be used to\\naccess any document that\\'s stored in the database. Domino® uses a different class (with different\\nproperties and methods) to represent the document that\\'s currently\\nopen on the workspace. Using the Reference tab, find the classes,\\nmethods, and properties required to: \\nAccess the current document\\nAccess the From field on the current document (this is where the\\nauthor\\'s name is stored)\\n If you need a hint, look under NotesUIWorkspace class. \\n Solution:\\nSending an e-mail message to the author of the current document  One\\ncorrect way to write the script is as follows: Sub Click(Source As Button)\\n    \\' NEW: access the document that\\'s currently open on the workspace\\n    Dim workspace As New NotesUIWorkspace\\n    Dim uidoc As NotesUIDocument\\n    Set uidoc = workspace.CurrentDocument\\n    \\' UNCHANGED from previous script\\n    Dim db As NotesDatabase\\n    Dim doc As NotesDocument\\n    \\' get the database\\n    Set db = New NotesDatabase( \"\", \"Learning LotusScript.nsf\" )\\n    \\' create a new document in the database\\n    Set doc = New NotesDocument( db )\\n    \\' set the new document\\'s form so it\\'ll be readable as a mail memo\\n    doc.Form = \"Memo\"\\n    \\' set the new document\\'s subject\\n    doc.Subject = \"Request for info\"\\n    \\' set the new document\\'s body\\n    doc.Body = \"Please send me more information about this.\"\\n    \\' mail the new document\\n    \\' NEW: use the NotesUIDocument object\\n    \\' to get the value of the From field\\n    Call doc.Send (False, uidoc.FieldGetText( \"From\" ))\\nEnd Sub \\n\\n\\n')]]\n"
     ]
    }
   ],
   "source": [
    "user_question = \"\"\"\n",
    "translate this lotusscript code to voltscript:\n",
    "Sub Click(Source As Button)\n",
    "\tDim answers As Variant\n",
    "\tDim doc As NotesUIDocument\n",
    "\tDim questionElements(1 To 5) As String\n",
    "\tquestionElements(1) = \"question_1\"\n",
    "\tquestionElements(2) = \"question_2\"\n",
    "\tquestionElements(3) = \"question_3\"\n",
    "\tquestionElements(4) = \"question_4\"\n",
    "\tquestionElements(5) = \"question_5\"\n",
    "\tForall element In questionElements\n",
    "\t\tSet selectedRadio = doc.GetObject(element)\n",
    "\t\tIf selectedRadio.IsChecked Then\n",
    "\t\t\tCall answers.AppendToTextList(element, selectedRadio.Value) ' Associate question with answer\n",
    "\t\tElse\n",
    "           \t' Handle cases where no radio button is selected (optional)\n",
    "\t\t\tPrint \"No answer selected for question: \" + element\n",
    "\t\tEnd If\n",
    "\tEnd Forall\n",
    "\tSet resultInput = doc.GetObject(\"result\")\n",
    "\tresultInput.Value = answers.Text ' Set the result field's value\n",
    "End Sub\n",
    "\"\"\"\n",
    "\n",
    "results = qa_chain({\"query\": user_question})\n",
    "print(results[\"result\"])\n",
    "print([results['source_documents']])"
   ]
  },
  {
   "cell_type": "code",
   "execution_count": 29,
   "metadata": {},
   "outputs": [
    {
     "name": "stderr",
     "output_type": "stream",
     "text": [
      "huggingface/tokenizers: The current process just got forked, after parallelism has already been used. Disabling parallelism to avoid deadlocks...\n",
      "To disable this warning, you can either:\n",
      "\t- Avoid using `tokenizers` before the fork if possible\n",
      "\t- Explicitly set the environment variable TOKENIZERS_PARALLELISM=(true | false)\n"
     ]
    },
    {
     "name": "stdout",
     "output_type": "stream",
     "text": [
      " ```voltscript\n",
      "Option Declare\n",
      "Option Public\n",
      "\n",
      "Use '../libs/functions.vss'\n",
      "\n",
      "Sub Initialize\n",
      "\tDim server As CouchServer\n",
      "\tDim db As CouchDatabase\n",
      "    Dim loginResult as Boolean\n",
      "\n",
      "\tloginResult = loginCouchDbServer(server, USERNAME, PASSWORD, SERVER_URL, '')\n",
      "\tIf Not loginResult Then Return\n",
      "\n",
      "    Print 'Login server: ' & loginResult\n",
      "    Print 'CouchServer.CouchVersion: ' & server.CouchVersion\n",
      "\tPrint 'CouchServer UUID: ' & server.getUUID()\n",
      "\n",
      "\tCall getCouchDbFeatures(server)\n",
      "\tCall getCouchDbDatabaseNames(server)\n",
      "\tSet db = getOrCreateCouchDbDatabase(server, 'testDB')\n",
      "\n",
      "\tCall PrintCouchDbDocumentIDs(db)\n",
      "\n",
      "End Sub\n",
      "```\n",
      "[[Document(page_content='Option Declare\\nOption Public\\n\\nUse \"../libs/functions.vss\"\\n\\nSub Initialize\\n\\tDim server As CouchServer\\n\\tDim db As CouchDatabase\\n    Dim loginResult as Boolean\\n\\n\\tloginResult = loginCouchDbServer(server, USERNAME, PASSWORD, SERVER_URL, \"\")\\n\\tIf Not loginResult Then Return\\n\\n    Print \"Login server: \" & loginResult\\n    Print \"CouchServer.CouchVersion: \" & server.CouchVersion\\n\\tPrint \"CouchServer UUID: \" & server.getUUID()\\n\\n\\tCall getCouchDbFeatures(server)\\n\\tCall getCouchDbDatabaseNames(server)\\n\\tSet db = getOrCreateCouchDbDatabase(server, \"demo\")\\n\\n\\tCall PrintCouchDbDocumentIDs(db)\\n\\nEnd Sub', metadata={'filename': 'samples_couchvse_src_getServerAndDbInfo.txt'}), Document(page_content='Option Declare\\nOption Public\\n\\nUse \"../libs/functions.vss\"\\n\\nSub Initialize\\n\\tDim server As CouchServer\\n\\tDim db As CouchDatabase\\n    Dim loginResult as Boolean\\n\\n\\tloginResult = loginCouchDbServer(server, USERNAME, PASSWORD, SERVER_URL, \"\")\\n\\tIf Not loginResult Then Return\\n\\n    Print \"Login server: \" & loginResult\\n    Print \"CouchServer.CouchVersion: \" & server.CouchVersion\\n\\tPrint \"CouchServer UUID: \" & server.getUUID()\\n\\n\\tCall getCouchDbFeatures(server)\\n\\tCall getCouchDbDatabaseNames(server)\\n\\tSet db = getOrCreateCouchDbDatabase(server, \"demo\")\\n\\n\\tCall PrintCouchDbDocumentIDs(db)\\n\\nEnd Sub'), Document(page_content='Option Public\\nOption Declare\\n\\nUse \"../libs/functions\"\\n\\nConst ID = \"foo\"\\n\\nSub Initialize\\n\\n\\tDim server As CouchServer\\n    Dim db as CouchDatabase\\n    Dim loginResult as Boolean\\n    Dim doc as CouchDocument\\n\\n\\tloginResult = loginCouchDbServer(server, USERNAME, PASSWORD, SERVER_URL, \"\")\\n\\tIf Not loginResult Then Return\\n\\n\\tSet db = getOrCreateCouchDbDatabase(server, \"demo\")\\n    If db.isDocument(ID) Then\\n        Print db.deleteDocumentByID(ID, False)\\n    End If\\n\\nEnd Sub', metadata={'filename': 'samples_couchvse_src_deleteDocument.txt'})]]\n"
     ]
    }
   ],
   "source": [
    "user_question = \"generate code for initializing server database named 'testDB' in voltscript\"\n",
    "\n",
    "results = qa_chain({\"query\": user_question})\n",
    "print(results[\"result\"])\n",
    "print([results['source_documents']])"
   ]
  },
  {
   "cell_type": "code",
   "execution_count": 10,
   "metadata": {},
   "outputs": [
    {
     "name": "stderr",
     "output_type": "stream",
     "text": [
      "huggingface/tokenizers: The current process just got forked, after parallelism has already been used. Disabling parallelism to avoid deadlocks...\n",
      "To disable this warning, you can either:\n",
      "\t- Avoid using `tokenizers` before the fork if possible\n",
      "\t- Explicitly set the environment variable TOKENIZERS_PARALLELISM=(true | false)\n"
     ]
    },
    {
     "name": "stdout",
     "output_type": "stream",
     "text": [
      " ```voltscript\n",
      "Dim my_array(0 To 2) As Variant\n",
      "my_array(0) = \"a\"\n",
      "my_array(1) = \"b\"\n",
      "my_array(2) = \"c\"\n",
      "Dim i As Integer\n",
      "i = 0\n",
      "While i < UBound(my_array)\n",
      "    Print my_array(i)\n",
      "    i++\n",
      "Wend\n",
      "```\n",
      "[[Document(page_content='Dim my_array(0 To 3) As Variant\\nmy_array(0) = \"a\"\\nmy_array(1) = \"b\"\\nmy_array(2) = \"c\"\\nDim i as Integer\\ni = 0\\nWhile i < UBound(my_array)\\n    Print my_array(i)\\n    i++\\nWend', metadata={'filename': 'loop.vss'}), Document(page_content='Dim my_array(0 To 3) As Variant\\nmy_array(0) = \"a\"\\nmy_array(1) = \"b\"\\nmy_array(2) = \"c\"\\nDim i as Integer\\ni = 0\\nWhile i < UBound(my_array)\\n    Print my_array(i)\\n    i++\\nWend'), Document(page_content='Dim my_array(0 To 3) As Variant\\nmy_array(0) = \"first record\"\\nmy_array(1) = \"second record\"\\nmy_array(2) = \"third record\"\\nDim i as Integer\\ni = 0\\nWhile i < UBound(my_array)\\n    Print my_array(i)\\n    i++\\nWend', metadata={'filename': 'loop.vss'})]]\n"
     ]
    }
   ],
   "source": [
    "user_question = \"\"\"translate this python code to voltscript: \n",
    "my_array = [\"a\", \"b\", \"c\"]\n",
    "i = 0\n",
    "while i < len(my_array):\n",
    "    print(my_array[i])\n",
    "    i+=1\n",
    "\"\"\"\n",
    "\n",
    "results = qa_chain({\"query\": user_question})\n",
    "print(results[\"result\"])\n",
    "print([results['source_documents']])"
   ]
  },
  {
   "cell_type": "code",
   "execution_count": 10,
   "metadata": {},
   "outputs": [
    {
     "name": "stderr",
     "output_type": "stream",
     "text": [
      "huggingface/tokenizers: The current process just got forked, after parallelism has already been used. Disabling parallelism to avoid deadlocks...\n",
      "To disable this warning, you can either:\n",
      "\t- Avoid using `tokenizers` before the fork if possible\n",
      "\t- Explicitly set the environment variable TOKENIZERS_PARALLELISM=(true | false)\n"
     ]
    },
    {
     "name": "stdout",
     "output_type": "stream",
     "text": [
      " ```voltscript\n",
      "Dim my_array(0 To 3) As Variant\n",
      "my_array(0) = \"hi micheal\"\n",
      "my_array(1) = \"hi jim\"\n",
      "my_array(2) = \"hi pam\"\n",
      "my_array(3) = \"hi dwight\"\n",
      "Dim i As Integer\n",
      "i = 0\n",
      "While i < UBound(my_array)\n",
      "    Print my_array(i)\n",
      "    i = i + 1\n",
      "Wend\n",
      "```\n",
      "[[Document(page_content='Dim my_array(0 To 3) As Variant\\nmy_array(0) = \"a\"\\nmy_array(1) = \"b\"\\nmy_array(2) = \"c\"\\nDim i as Integer\\ni = 0\\nWhile i < UBound(my_array)\\n    Print my_array(i)\\n    i++\\nWend', metadata={'filename': 'loop.vss'}), Document(page_content='Dim my_array(0 To 3) As Variant\\nmy_array(0) = \"a\"\\nmy_array(1) = \"b\"\\nmy_array(2) = \"c\"\\nDim i as Integer\\ni = 0\\nWhile i < UBound(my_array)\\n    Print my_array(i)\\n    i++\\nWend'), Document(page_content='Dim my_array(0 To 3) As Variant\\nmy_array(0) = \"first record\"\\nmy_array(1) = \"second record\"\\nmy_array(2) = \"third record\"\\nDim i as Integer\\ni = 0\\nWhile i < UBound(my_array)\\n    Print my_array(i)\\n    i++\\nWend', metadata={'filename': 'loop.vss'})]]\n"
     ]
    }
   ],
   "source": [
    "user_question = \"\"\"translate this python code to voltscript: \n",
    "my_array = ['hi micheal', 'hi jim', 'hi pam', 'hi dwight']\n",
    "i = 0\n",
    "while i < len(my_array):\n",
    "    print(my_array[i])\n",
    "    i+=1\n",
    "\"\"\"\n",
    "\n",
    "results = qa_chain({\"query\": user_question})\n",
    "print(results[\"result\"])\n",
    "print([results['source_documents']])"
   ]
  },
  {
   "cell_type": "code",
   "execution_count": 11,
   "metadata": {},
   "outputs": [
    {
     "name": "stderr",
     "output_type": "stream",
     "text": [
      "huggingface/tokenizers: The current process just got forked, after parallelism has already been used. Disabling parallelism to avoid deadlocks...\n",
      "To disable this warning, you can either:\n",
      "\t- Avoid using `tokenizers` before the fork if possible\n",
      "\t- Explicitly set the environment variable TOKENIZERS_PARALLELISM=(true | false)\n"
     ]
    },
    {
     "name": "stdout",
     "output_type": "stream",
     "text": [
      " ```voltscript\n",
      "While True\n",
      "    Print \"Hello, world!\"\n",
      "Wend\n",
      "```\n",
      "[[Document(page_content='https://help.hcltechsw.com/docs/voltscript/early-access/howto/language/loops.html'), Document(page_content='loop.vss'), Document(page_content='%REM\\n\\tCopyright 2023 HCL America, Inc.\\n\\tLicensed under the Apache License, Version 2.0 (the \"License\");\\n\\tyou may not use this file except in compliance with the License.\\n\\tYou may obtain a copy of the License at\\n\\n\\thttp://www.apache.org/licenses/LICENSE-2.0\\n\\n\\tUnless required by applicable law or agreed to in writing,\\n\\tsoftware distributed under the License is distributed on an \"AS IS\" BASIS,\\n\\tWITHOUT WARRANTIES OR CONDITIONS OF ANY KIND, either express or implied.\\n\\tSee the License for the specific language governing permissions and limitations under the License\\n%END REM\\n\\nOption Declare\\nOption Public\\n\\nUse \"../libs/functions\"\\nUse \"../libs/VoltScriptTesting\"\\n\\nConst goodJson = |{\"firstName\":\"John\",\"lastName\":\"Doe\",\"age\":42,\"children\":[\"Jane\",\"Frank\"]}|\\nConst badJson = \"This is not Json\"\\n\\nSub Initialize\\n\\n    Dim testRunner as New TestRunner(\"Test JSON Parsing\")\\n    Dim testSuite as New TestSuite(\"Test String Parsing\")\\n    Call testRunner.addTestSuite(testSuite)\\n\\n    Dim jsonObj as JsonObject\\n    Set jsonObj = parseJsonString(goodJson)\\n    Dim children as JsonObject\\n    Dim childrenArr as Variant\\n    Call testSuite.describe(\"Check good JSON parsed\").assertTrue(Not jsonObj Is Nothing)\\n    Call testSuite.describe(\"Check jsonObj is object\").assertTrue(jsonObj.isObject)\\n    Call testSuite.describe(\"Check age is scalar\").assertTrue(jsonObj.getChild(\"age\").isScalar)\\n    Call testSuite.describe(\"Check labels sorted alphabetically\").assertEqualsString(\"age\", jsonObj.getChildren()(0).Label, true)\\n    Call testSuite.describe(\"Check firstName\").assertEqualsString(\"John\", CStr(jsonObj.getChild(\"firstName\").scalarValue), True)\\n    Set children = jsonObj.getChild(\"children\")\\n    Call testSuite.describe(\"Check children is array\").assertTrue(children.isArray)\\n    Call testSuite.describe(\"Check children has two values\").assertEqualsInteger(2, children.childCount)\\n    Call testSuite.describe(\"Check child 1 is Jane\").assertEqualsString(\"Jane\", children.getChildren()(0).scalarValue, true)\\n    Call testSuite.describe(\"Check child 2 is Frank\").assertEqualsString(\"Frank\", children.getChildren()(1).scalarValue, true)\\n    childrenArr = children.valueArray\\n    Call testSuite.describe(\"Check children\").assertEqualsString(\"Jane,Frank\", Join(childrenArr, \",\"), True)\\n\\n    Call testSuite.describe(\"Test parsing bad JSON\")\\n    Try\\n        Set jsonObj = parseJsonString(badJson)\\n        Call testSuite.addResult(False, \"Successfully parsed JSON as \" & jsonObj.toString(false))\\n    Catch\\n        Call testSuite.addResult(True, \"\")\\n        Call testSuite.describe(\"Verify error number is 400\").assertEqualsInteger(400, Err())\\n        Call testSuite.describe(\"Validate error message is as expected\").assertTrue(Error() Like \"Must supply a valid JSON string*\")\\n    End Try\\n\\n    Dim testSuite2 as New TestSuite(\"Test File Parsing\")\\n    Call testRunner.addTestSuite(testSuite2)\\n    Set jsonObj = parseJsonFile(\"sampleJson/goodJson.json\")\\n    Call testSuite2.describe(\"Check good JSON parsed\").assertTrue(Not jsonObj Is Nothing)\\n    Call testSuite2.describe(\"Check jsonObj is object\").assertTrue(jsonObj.isObject)\\n    Call testSuite2.describe(\"Check age is scalar\").assertTrue(jsonObj.getChild(\"age\").isScalar)\\n\\n    Call testSuite2.describe(\"Test parsing bad JSON file\")\\n    Try\\n        Set jsonObj = parseJsonFile(\"sampleJson/badJson.json\")\\n        Call testSuite2.addResult(False, \"Successfully parsed JSON as \" & jsonObj.toString(false))\\n    Catch\\n        Call testSuite2.addResult(True, \"\")\\n        Call testSuite2.describe(\"Verify error number is 400\").assertEqualsInteger(400, Err())\\n        Print Error()\\n        Call testSuite2.describe(\"Validate error message is as expected\").assertTrue(Error() Like \"JSON text is not valid\")\\n    End Try\\n\\n    Call testSuite2.describe(\"Test opening file not found\")\\n    Try\\n        Set jsonObj = parseJsonFile(\"sampleJson/noFile.json\")\\n        Call testSuite2.addResult(False, \"Successfully parsed non-existent file\")\\n    Catch\\n        Call testSuite2.addResult(True, \"\")\\n        Call testSuite2.describe(\"Verify error number is 404\").assertEqualsInteger(404, Err())\\n        Call testSuite2.describe(\"Verify error message starts File could not be opened\")._\\n            assertTrue(Error() Like \"File could not be opened*\")\\n    End Try\\n\\n    Set jsonObj = parseJsonFile(\"sampleJson/goodJson.json\")\\n    Print jsonObj.toString(false)\\n    Call testSuite2.describe(\"Check first name is string\").assertEqualsString(\"string 12\", checkJsonType(jsonObj, \"firstName\"), True)\\n    Call testSuite2.describe(\"Check first name is string\").assertEqualsString(\"number 5\", checkJsonType(jsonObj, \"age\"), True)\\n    Call testSuite2.describe(\"Check first name is string\").assertEqualsString(\"array 16\", checkJsonType(jsonObj, \"children\"), True)\\n    Call testSuite2.describe(\"Check first name is string\").assertEqualsString(\"boolean 36\", checkJsonType(jsonObj, \"living\"), True)\\n    Call testSuite2.describe(\"Check first name is string\").assertEqualsString(\"object 2\", checkJsonType(jsonObj, \"address\"), True)\\n\\n    Call testSuite2.describe(\"Check address is child\").assertTrue(jsonObj.isChild(\"address\"))\\n    Dim path(1) as String\\n    path(0) = \"address\"\\n    path(1) = \"add1\"\\n    Call testSuite2.describe(\"Check address/add1 can be found\").assertTrue(jsonObj.isDescendant(path))\\n    path(1) = \"add3\"\\n    Call testSuite2.describe(\"Check address/add3 can\\'t be found\").assertFalse(jsonObj.isDescendant(path))\\n    path(1) = \"add2\"\\n    Dim actualObj as JsonObject\\n    Call testSuite2.describe(\"Find address/add2\").assertTrue(actualObj Is Nothing)\\n    Set actualObj = jsonObj.findObjectByPath(path)\\n    Call testSuite2.describe(\"Find address/add2\").assertTrue(Not actualObj Is Nothing)\\n\\nEnd Sub', metadata={'filename': 'samples_jsonvse_test_parseUnitTests.txt'})]]\n"
     ]
    }
   ],
   "source": [
    "user_question = \"generate a while loop in voltscript\"\n",
    "\n",
    "results = qa_chain({\"query\": user_question})\n",
    "print(results[\"result\"])\n",
    "print([results['source_documents']])"
   ]
  },
  {
   "cell_type": "code",
   "execution_count": 12,
   "metadata": {
    "tags": []
   },
   "outputs": [
    {
     "name": "stderr",
     "output_type": "stream",
     "text": [
      "huggingface/tokenizers: The current process just got forked, after parallelism has already been used. Disabling parallelism to avoid deadlocks...\n",
      "To disable this warning, you can either:\n",
      "\t- Avoid using `tokenizers` before the fork if possible\n",
      "\t- Explicitly set the environment variable TOKENIZERS_PARALLELISM=(true | false)\n"
     ]
    },
    {
     "name": "stdout",
     "output_type": "stream",
     "text": [
      " ```voltscript\n",
      "'Declare an array of variants with 4 elements\n",
      "Dim my_array(0 To 3) As Variant\n",
      "\n",
      "'Assign values to the array elements\n",
      "my_array(0) = 'hi micheal'\n",
      "my_array(1) = 'hi jim'\n",
      "my_array(2) = 'hi pam'\n",
      "my_array(3) = 'hi dwight'\n",
      "\n",
      "'Declare an integer variable i and initialize it to 0\n",
      "Dim i As Integer\n",
      "i = 0\n",
      "\n",
      "'Use a while loop to iterate through the array and print each element\n",
      "While i < UBound(my_array)\n",
      "    Print my_array(i)\n",
      "    i++\n",
      "Wend\n",
      "```\n",
      "[[Document(page_content='Dim my_array(0 To 3) As Variant\\nmy_array(0) = \"a\"\\nmy_array(1) = \"b\"\\nmy_array(2) = \"c\"\\nDim i as Integer\\ni = 0\\nWhile i < UBound(my_array)\\n    Print my_array(i)\\n    i++\\nWend', metadata={'filename': 'loop.vss'}), Document(page_content='Dim my_array(0 To 3) As Variant\\nmy_array(0) = \"a\"\\nmy_array(1) = \"b\"\\nmy_array(2) = \"c\"\\nDim i as Integer\\ni = 0\\nWhile i < UBound(my_array)\\n    Print my_array(i)\\n    i++\\nWend'), Document(page_content='Dim my_array(0 To 3) As Variant\\nmy_array(0) = \"first record\"\\nmy_array(1) = \"second record\"\\nmy_array(2) = \"third record\"\\nDim i as Integer\\ni = 0\\nWhile i < UBound(my_array)\\n    Print my_array(i)\\n    i++\\nWend', metadata={'filename': 'loop.vss'})]]\n"
     ]
    }
   ],
   "source": [
    "user_question = \"\"\"annotate comments in this voltscript code: \n",
    "Dim my_array(0 To 3) As Variant\n",
    "my_array(0) = \"hi micheal\"\n",
    "my_array(1) = \"hi jim\"\n",
    "my_array(2) = \"hi pam\"\n",
    "my_array(3) = \"hi dwight\"\n",
    "Dim i As Integer\n",
    "i = 0\n",
    "While i < UBound(my_array)\n",
    "    Print my_array(i)\n",
    "    i++\n",
    "Wend\n",
    "\"\"\"\n",
    "\n",
    "results = qa_chain({\"query\": user_question})\n",
    "print(results[\"result\"])\n",
    "print([results['source_documents']])"
   ]
  },
  {
   "cell_type": "code",
   "execution_count": 13,
   "metadata": {},
   "outputs": [
    {
     "name": "stderr",
     "output_type": "stream",
     "text": [
      "huggingface/tokenizers: The current process just got forked, after parallelism has already been used. Disabling parallelism to avoid deadlocks...\n",
      "To disable this warning, you can either:\n",
      "\t- Avoid using `tokenizers` before the fork if possible\n",
      "\t- Explicitly set the environment variable TOKENIZERS_PARALLELISM=(true | false)\n"
     ]
    },
    {
     "name": "stdout",
     "output_type": "stream",
     "text": [
      " ```voltscript\n",
      "Sub Initialize\n",
      "    Dim session As New NotesSession\n",
      "    Dim db As NotesDatabase\n",
      "    Dim dc As NotesDocumentCollection\n",
      "    Dim doc As NotesDocument\n",
      "    Set db = session.CurrentDatabase\n",
      "    Set dc = db.AllDocuments\n",
      "    Set doc = dc.GetFirstDocument\n",
      "    While Not(doc Is Nothing)\n",
      "        category = doc.Category\n",
      "        totalSales = doc.TotalSales\n",
      "        Select Case totalSales(0)\n",
      "        Case Is >= 200000 : category(0) = 'Above Quota'\n",
      "        Case Is >= 100000 : category(0) = 'OK'\n",
      "        Case Else : category(0) = 'Below Quota'\n",
      "        End Select\n",
      "        doc.Category = category\n",
      "        Call doc.Save(True, False)\n",
      "        Set doc = dc.GetNextDocument(doc)\n",
      "    Wend\n",
      "End Sub\n",
      "```\n",
      "[[Document(page_content='\\nLesson 2: Counting the documents in a view category\\n\\n\\nThis is the second of three lessons designed to introduce\\nyou to using the LotusScript® language\\nin Domino®. You should already\\nhave completed Lesson 1.\\nLesson 2 helps you create a script that counts the number of documents\\nin one category of the \"By Category\" view of the \"Learning LotusScript®\" database. The\\nscript runs from an agent.\\n Step\\nA: Add documents to the test database  Add three documents\\nto your test database so your agent script will have something to\\nwork with. \\nIn the Notes® client, open\\nthe \"Learning LotusScript®\"\\ndatabase that you created in Lesson 1. (Or in Domino® Designer, you can preview a view of\\nthe database.)\\nCreate and save three or more new \"Main Topic\" documents. Be sure\\nto fill in the Subject and Category fields. Use names like \"Subject\\n1\" and \"Category 1.\" Use the same category for several documents.\\n \\n Step\\nB: Create an agent  The script runs whenever an agent runs,\\nso begin by creating the agent. In Domino® Designer: \\nSelect \"Agents\" in the Design pane, then click \"New Agent.\" The\\nAgent Properties box appears. The Programmer\\'s pane appears next to\\nit.\\nName the agent \"Count documents.\"\\nSelect the \"Shared\" option.\\nIn the Runtime section click the \"On event\" trigger and select\\n\"Action menu selection\" from the drop-down box.\\nSelect \"All documents in database\" for the target.\\nSelect LotusScript® from\\nthe Run menu in the Programmer\\'s pane.\\nSelect Initialize from the list of programmable events on the\\nObjects tab.\\n \\n Step\\nC: Access the Reference tab  The following steps do not\\ncreate anything. They are just to familiarize you with the Domino® classes. \\nIn the Info List, click the Reference tab.\\nSelect \"Domino®: Classes\"\\nand expand NotesDatabase.\\nUnder NotesDatabase, expand Methods. You looked at methods before,\\nand now you\\'re ready to use them in a script.\\nScroll until you find the GetView method. The type of value that\\na method returns is indicated after \"As\" at the end of the method.\\nThe GetView method returns a NotesView object.\\nUnder \"Domino®: Classes,\"\\nexpand NotesView. This class represents a view of a database.\\nUnder NotesView, expand Methods and then scroll until you find\\nthe methods that start with CreateViewNav. These methods return a\\nNotesViewNavigator object.\\nUnder NotesViewNavigator expand Methods and then scroll until\\nyou find the GetFirstDocument method. This method returns a NotesViewEntry\\nobject.\\nScroll until you find the GetNextDocument method. It, too, returns\\na NotesViewEntry object.\\n \\n Step\\nD: Enter the script  You\\'re ready to enter the script. Edit\\nthe subroutine so that it looks exactly like this with one exception.\\nSubstitute the name of an actual category for \"Category 1\"if necessary. Sub Initialize\\n    Dim db As NotesDatabase\\n    Dim view As NotesView\\n    Dim nav As NotesViewNavigator\\n    Dim entry As NotesViewEntry\\n    Dim count As Integer\\n    Set db = New NotesDatabase( \"\", \"Learning LotusScript.nsf\" )\\n    Set view = db.GetView( \"By Category\" )\\n    view.AutoUpdate = False\\n    Set nav = view.CreateViewNavFromCategory( \"Category 1\" )\\n    Set entry = nav.GetFirstDocument\\n    count = 0\\n    \\' begin counting documents\\n    \\' stop when there are no more documents\\n    Do Until entry Is Nothing\\n        count = count + 1\\n        Set entry = nav.GetNextDocument( entry )\\n    Loop\\n    Messagebox \"Number of documents = \" & count,, \"Category 1\"\\nEnd Sub \\n Step\\nE: Compile and test the script  \\nChoose File - Save.\\nIf you get the message \"Data not saved due to script error(s),\"\\ncheck the error at the end of the Programmer\\'s pane, then double-check\\nyour typing to make sure that the script looks exactly like the one\\nin Step D.\\nChoose File - Close.\\nEnsure that your agent is highlighted and choose Actions - Run. Domino® displays a dialog box\\nthat tells you the number of documents in \"Category 1\" (or the specified\\ncategory).If the number of documents is 0 or an unexpected number,\\nensure that CreateNavFromCategory in your script specifies the correct\\ncategory name. Recompile and save if necessary. Also ensure that you\\nhave sample documents in the specified category. Another common\\nerror is to not specify the name of the view correctly. If you do\\nthat, \"view\" is not associated with an actual NotesView object because\\nnone is set. When you try to use \"view\" as an object name, you will\\nget the error, \"Object variable not set.\" If you get this error, check\\nthe statements in your script that set object variables. Fix the script,\\nrecompile, and test it again. \\n \\n Step\\nF: Edit the script  You may not need to edit your script\\nafter saving it, but if you do, here\\'s how. \\nOpen the \"Learning LotusScript®\"\\ndatabase if it does not appear in the Design pane.\\nSelect \"Agents\" in the Design pane.\\nOpen the \"Count documents\" agent.\\nSelect Initialize from the Objects tab.\\n \\n Review:\\nHow did the script work?  The lines of script you entered\\nmean:  \\nI want to access the \"Learning LotusScript®.nsf\" database on my local\\ndrive, and I want to use the name db to refer to this database.\\nNext, I want to access the \"By Category\" view in the database,\\nand I want to use the name view to refer to this view. Note that the\\nscript accesses the \"By Category\" view on disk -- therefore,\\nit does not matter what view is open in the user interface when you\\nrun the agent. Setting AutoUpdate to False keeps the view static for\\nyour processing.\\nNext I want to build a view navigator that contains all the entries\\ncategorized under \"Category 1\" and I want to use the name nav to refer\\nto this navigator.\\nNext, I want to access the first document entry in the view navigator,\\nand I want to use the name entry to refer to it.\\nNext, I want to assign a value of 0 to the integer called count.\\nI want to count how many documents are in the view navigator by getting\\neach document and incrementing count until every document has been\\ncounted.\\nLast, I want to display the count in a dialog box on the screen.\\n \\n Line\\n1: Begin a subroutine  Sub Initialize defines the beginning\\nof the subroutine. Domino® creates\\nthis line for you. \\n Lines\\n2 to 6: Declare variables  Dim db As NotesDatabase declares\\nan object called db. It is an instance of the NotesDatabase class. Dim\\nview As NotesView declares an object called view. It is an instance\\nof the NotesView class. Dim nav As NotesViewNavigator declares\\nan object called nav. It is an instance of the NotesViewNavigator\\nclass. Dim entry As NotesViewEntry declares an object called\\nentry. It is an instance of the NotesViewEntry class. Dim count\\nAs Integer declares a variable called count. It is an integer. \\n Lines\\n7 to 11: Set the values of the variables  Set db = New NotesDatabase(\\n\"\", \"Learning LotusScript®.nsf\"\\n) sets the value of db so that it refers to the \"Learning LotusScript®.nsf\" database\\non the local computer. Set view = db.GetView( \"By Category\"\\n) sets view equal to the value returned by GetView. GetView is a method\\ndefined in the NotesDatabase class that returns a NotesView object.\\nThe parameter,\"By Category,\" indicates which view you want.\\nSince you use db to call it, GetView returns an object representing\\na view in \"Learning LotusScript®.nsf.\" View.AutoUpdate\\n= False turns off automatic updating of the view object when changes\\noccur in the view. This improves performance and ensures that the\\nview navigator does not encounter unexpected entries. Set nav\\n= view.CreateViewNavFromCategory( \"Category 1\" ) sets nav equal to\\nthe value returned by CreateViewNavFromCategory. CreateViewNavFromCategory\\nis a method defined in the NotesView class that returns a NotesViewNavigator\\nobject. The parameter, which should be the name of a category in the\\ndatabase, says that you want the navigator to consist of all the entries\\ncategorized there. Set entry = nav.GetFirstDocument sets entry\\nequal to the value returned by GetFirstDocument. GetFirstDocument\\nis a method defined in the NotesViewNavigator class that returns a\\nNotesViewEntry object. It returns the first view entry that represents\\na document rather than a category. count = 0 sets count equal\\nto 0. You must use Set to set the value of an object, but you must not use\\nSet to set the value of an integer or any other plain data type. In\\nLesson 1, you learned about properties, which represent the attributes\\nof an object. In this lesson, you\\'re also using methods, which represent\\nthe behavior of an object. To use a method in a script, you need four\\nthings: \\nThe name of the object, such as db, view, or nav\\nA dot, or period (.)\\nThe name of the method, such as GetView, CreateViewNavFromCategory,\\nor GetFirstDocument\\nAny parameters required by the method\\n Like a property, a method is only useful if you know which\\nobject it pertains to -- that\\'s why you need an object to use\\nit. For example, the GetView method is only useful if you know which\\ndatabase it pertains to, which is why you use the db object to access\\nit. Similarly, the GetFirstDocument method is only useful if you know\\nwhich view it pertains to, which is why you use the view object to\\naccess it. Some methods are like functions and return values.\\nOther methods are like subroutines and don\\'t return values.  \\n Lines\\n12 to 13: Insert comments  \\' begin counting documents\\n\\' stop when there are no more documents These are in-line\\ncomments that explain what\\'s happening in the script. LotusScript® ignores any line that begins\\nwith an apostrophe ( \\' ) or the keyword REM. \\n Lines\\n14 to 17: Count the documents in the view  Do Until entry\\nIs Nothing defines the beginning of a loop, and specifies what condition\\ncauses the loop to stop. The loop will execute zero, one, or multiple\\ntimes, until the entry object is Nothing. Loop defines the\\nend of the loop. The lines between Do Until entry Is Nothing and Loop\\nare called the body of the loop: \\ncount = count + 1 increments the current value of count by one.\\nThe script does this each time it gets a new document, so that it\\nmaintains a current count of documents in the view.\\nSet entry = nav.GetNextDocument( entry ) assigns the next entry\\nin the view that is a document to entry. If there are no more documents\\nin the view, it assigns Nothing to entry.\\n Nothing is a LotusScript® keyword\\nthat means you have a null, or empty, object. For example, the entry\\nobject is Nothing when it\\'s first declared, until you assign a value\\nto it. The GetNextDocument method returns Nothing when you send it\\nthe last document in the view as a parameter, because there are no\\ndocuments after the last one. In this script, this means stop counting. If\\nthere are no documents at all in the \"By Category\" view, the loop\\nbody never runs. If there is one document in the view, the loop body\\nruns once; if there are two documents, the loop body runs twice, and\\nso on. \\n Line\\n18: Display the result in a dialog box  Messagebox \"Number\\nof documents = \" & count,, \"Category 1\" displays the value of\\ncount in a dialog box on the screen. \\n Line\\n19: End the subroutine  End Sub defines the end of a subroutine. \\n Challenge:\\nCounting the categories in a view  Using what you have learned,\\nwrite a script that counts the categories in the \"By Category\" view\\nof the \"Learning LotusScript®\"\\ndatabase. The script should create a view navigator that represents\\nall the entries in the view. The script should count the first entry,\\nwhich always represents a category in a categorized view, and then\\neach next entry that represents a category, stopping when there are\\nno more category entries to count. Use the Reference tab to find the\\nmethods or properties you need. \\n Solution:\\nCounting the categories in a view  The methods you need\\nare CreateViewNav in the NotesView class, and GetFirst and GetNextCategory,\\nboth in the NotesViewNavigator class. CreateViewNav, which has no\\nparameters, creates a NotesViewNavigator object that represents the\\nentire view. One correct solution is as follows: Sub Initialize\\n    Dim db As NotesDatabase\\n    Dim view As NotesView\\n    Dim nav As NotesViewNavigator\\n    Dim entry As NotesViewEntry\\n    Dim count As Integer\\n    Set db = New NotesDatabase( \"\", \"Learning LotusScript.nsf\" )\\n    Set view = db.GetView( \"By Category\" )\\n    view.AutoUpdate = False\\n    Set nav = view.CreateViewNav( )\\n    Set entry = nav.GetFirst\\n    count = 0\\n    \\' begin counting categories\\n    \\' stop when there are no more categories\\n    Do Until entry Is Nothing\\n        count = count + 1\\n        Set entry = nav.GetNextCategory( entry )\\n    Loop\\n    Messagebox \"Number of categories = \" & count,, \"By Category\"\\nEnd Sub \\n\\n\\n'), Document(page_content=\"\\nNotesACLEntry (LotusScript®)\\n\\n\\nRepresents a single entry in an access control list. An\\nentry may be for a person, a group, or a server.\\n\\n Containment  Contained\\nby: NotesACL  Contains: NotesName  \\n Properties   CanCreateDocuments   CanCreateLSOrJavaAgent   CanCreatePersonalAgent   CanCreatePersonalFolder   CanCreateSharedFolder   CanDeleteDocuments   CanReplicateOrCopyDocuments   IsAdminReaderAuthor   IsAdminServer   IsGroup   IsPerson   IsPublicReader   IsPublicWriter   IsServer   Level   Name   NameObject   Parent   Roles   UserType  \\n Methods   DisableRole   EnableRole   IsRoleEnabled  New  Remove  \\n Creation  To\\ncreate a new NotesACLEntry object, use one of the following: \\nNew\\n Note: The New method is not supported in COM. \\nCreateACLEntry method in NotesACL\\n New creates an entry in an ACL with the name and level that\\nyou specify. You must call Save on the ACL if you want the\\nmodified ACL to be saved to disk. \\n Syntax   Dim  variableName As\\nNew NotesACLEntry(  notesACL ,  name$ ,  level%  )  or  Set  notesACLEntry  =\\nNew NotesACLEntry(  notesACL ,  name$ ,  level%  )  \\nParameters   notesACL  The\\nACL that contains the entry you're creating.  name$  String.\\nThe name of the person, group, or server for whom you want to create\\nan entry in the ACL.  level%  Constant. The level\\nyou want to assign to this person, group, or server in the ACL. May\\nbe any of the following: \\n\\n\\n ACLLEVEL_NOACCESS (0) \\n No access \\n\\n\\n\\n\\n ACLLEVEL_DEPOSITOR (1) \\n Depositor access \\n\\n\\n\\n ACLLEVEL_READER (2) \\n Reader access \\n\\n\\n\\n ACLLEVEL_AUTHOR (3) \\n Author access \\n\\n\\n\\n ACLLEVEL_EDITOR (4) \\n Editor access \\n\\n\\n\\n ACLLEVEL_DESIGNER (5) \\n Designer access \\n\\n\\n\\n ACLLEVEL_MANAGER (6) \\n Manager access \\n\\n \\n Access  NotesACL\\nprovides three ways to access an existing NotesACLEntry. \\nTo access an entry in an ACL when you know its name, use GetEntry.\\nTo access the first entry in the ACL, use GetFirstEntry.\\nTo access entries after the first one, use GetNextEntry.\\n \\n\\n   Example   \\n\\n\\n\\n\"), Document(page_content='\\nGetModifiedDocuments (NotesDatabase - LotusScript®)\\n\\n\\n       Gets\\nthe documents in a database that are modified since a specified time. Note: This method is new with Release 7. \\n Defined\\nin   NotesDatabase  \\n Syntax   Set notesDocumentCollection  =  notesDatabase .GetModifiedDocuments( [ since ]  ,  [ noteClass% ] )  \\n Parameters   since   NotesDateTime.\\nThe start time for collecting the modified documents. Defaults to\\nthe creation time of the database effectively returning all documents.  noteClass%  Integer.\\nConstant. One of the following to specify the type or types of document\\ncollected. You can combine types with a logical or. Defaults to DBMOD_DOC_DATA\\nwhich collects only data documents. \\nDBMOD_DOC_ACL (64)\\nDBMOD_DOC_AGENT (512)\\nDBMOD_DOC_ALL (32767)\\nDBMOD_DOC_DATA (1)\\nDBMOD_DOC_FORM (4)\\nDBMOD_DOC_HELP (256)\\nDBMOD_DOC_ICON (16)\\nDBMOD_DOC_REPLFORMULA (2048)\\nDBMOD_DOC_SHAREDFIELD (1024)\\nDBMOD_DOC_VIEW (8)\\n \\n Return\\nvalue   noteDocumentCollection   NotesDocumentCollection.\\nA collection containing the modified documents. \\n Usage  The\\nend time for the collection is the current database time, which is\\nposted to the UntilTime property\\nof the returned NotesDocumentCollection object. This time should be\\nspecified as the \"since\" time in a subsequent call to GetModifiedDocuments\\nwhere you want to get all modified documents since the most recent\\ncall. Do not rely on the system time, which may differ from the database\\ntime. This method raises lsERR_NOTES_NOSUCH_DBGETMODDOCS\\n(4698) \"Not a valid GetModifiedDocuments constant\" if the noteClass\\nparameter is invalid. \\n\\n   Example   \\n\\n\\n\\n')]]\n"
     ]
    }
   ],
   "source": [
    "user_question = \"\"\"translate this lotusscript code to voltscript: \n",
    "Sub Initialize\n",
    "     Dim session As New NotesSession\n",
    "     Dim db As NotesDatabase\n",
    "     Dim dc As NotesDocumentCollection\n",
    "     Dim doc As NotesDocument\n",
    "     Set db = session.CurrentDatabase\n",
    "     Set dc = db.AllDocuments\n",
    "     Set doc = dc.GetFirstDocument\n",
    "     While Not(doc Is Nothing)\n",
    "          category = doc.Category\n",
    "          totalSales = doc.TotalSales\n",
    "          Select Case totalSales(0)\n",
    "          Case Is >= 200000 : category(0) = \"Above Quota\"\n",
    "          Case Is >= 100000 : category(0) = \"OK\"\n",
    "          Case Else : category(0) = \"Below Quota\"\n",
    "          End Select\n",
    "          doc.Category = category\n",
    "          Call doc.Save(True, False)\n",
    "          Set doc = dc.GetNextDocument(doc)\n",
    "     Wend\n",
    "End Sub\n",
    "\"\"\"\n",
    "\n",
    "results = qa_chain({\"query\": user_question})\n",
    "print(results[\"result\"])\n",
    "print([results['source_documents']])"
   ]
  },
  {
   "cell_type": "code",
   "execution_count": 8,
   "metadata": {
    "tags": []
   },
   "outputs": [
    {
     "name": "stderr",
     "output_type": "stream",
     "text": [
      "INFO:     Started server process [96250]\n",
      "INFO:     Waiting for application startup.\n",
      "INFO:     Application startup complete.\n",
      "INFO:     Uvicorn running on http://0.0.0.0:8081 (Press CTRL+C to quit)\n",
      "INFO:     Shutting down\n",
      "INFO:     Waiting for application shutdown.\n",
      "INFO:     Application shutdown complete.\n",
      "INFO:     Finished server process [96250]\n"
     ]
    }
   ],
   "source": [
    "from typing import Optional\n",
    "\n",
    "from fastapi import FastAPI\n",
    "from pathlib import Path\n",
    "import os, sys\n",
    "import uvicorn\n",
    "import json\n",
    "import nest_asyncio\n",
    "\n",
    "nest_asyncio.apply()\n",
    "app = FastAPI()\n",
    "\n",
    "@app.post(\"/domino/code_interpretor/\")\n",
    "async def create_item(data: dict):\n",
    "    print(data)\n",
    "    data = data['data']\n",
    "    response  = qa_chain({\"query\": data})\n",
    "    return json.dumps({\"data\":response})\n",
    "\n",
    "\n",
    "\n",
    "if __name__ == \"__main__\":\n",
    "    PORT = \"8081\"\n",
    "    uvicorn.run(app, host=\"0.0.0.0\", port=int(os.getenv('PORT', PORT)))"
   ]
  },
  {
   "cell_type": "code",
   "execution_count": 26,
   "metadata": {
    "tags": []
   },
   "outputs": [
    {
     "name": "stderr",
     "output_type": "stream",
     "text": [
      "huggingface/tokenizers: The current process just got forked, after parallelism has already been used. Disabling parallelism to avoid deadlocks...\n",
      "To disable this warning, you can either:\n",
      "\t- Avoid using `tokenizers` before the fork if possible\n",
      "\t- Explicitly set the environment variable TOKENIZERS_PARALLELISM=(true | false)\n"
     ]
    },
    {
     "name": "stdout",
     "output_type": "stream",
     "text": [
      "Requirement already satisfied: fastapi in /Users/cuburtbalanon/anaconda3/envs/rag-nlp/lib/python3.10/site-packages (0.110.0)\n",
      "Collecting uvicorn\n",
      "  Downloading uvicorn-0.27.1-py3-none-any.whl.metadata (6.3 kB)\n",
      "Requirement already satisfied: pydantic!=1.8,!=1.8.1,!=2.0.0,!=2.0.1,!=2.1.0,<3.0.0,>=1.7.4 in /Users/cuburtbalanon/anaconda3/envs/rag-nlp/lib/python3.10/site-packages (from fastapi) (2.4.2)\n",
      "Requirement already satisfied: starlette<0.37.0,>=0.36.3 in /Users/cuburtbalanon/anaconda3/envs/rag-nlp/lib/python3.10/site-packages (from fastapi) (0.36.3)\n",
      "Requirement already satisfied: typing-extensions>=4.8.0 in /Users/cuburtbalanon/anaconda3/envs/rag-nlp/lib/python3.10/site-packages (from fastapi) (4.8.0)\n",
      "Requirement already satisfied: click>=7.0 in /Users/cuburtbalanon/anaconda3/envs/rag-nlp/lib/python3.10/site-packages (from uvicorn) (8.1.7)\n",
      "Collecting h11>=0.8 (from uvicorn)\n",
      "  Downloading h11-0.14.0-py3-none-any.whl.metadata (8.2 kB)\n",
      "Requirement already satisfied: annotated-types>=0.4.0 in /Users/cuburtbalanon/anaconda3/envs/rag-nlp/lib/python3.10/site-packages (from pydantic!=1.8,!=1.8.1,!=2.0.0,!=2.0.1,!=2.1.0,<3.0.0,>=1.7.4->fastapi) (0.6.0)\n",
      "Requirement already satisfied: pydantic-core==2.10.1 in /Users/cuburtbalanon/anaconda3/envs/rag-nlp/lib/python3.10/site-packages (from pydantic!=1.8,!=1.8.1,!=2.0.0,!=2.0.1,!=2.1.0,<3.0.0,>=1.7.4->fastapi) (2.10.1)\n",
      "Requirement already satisfied: anyio<5,>=3.4.0 in /Users/cuburtbalanon/anaconda3/envs/rag-nlp/lib/python3.10/site-packages (from starlette<0.37.0,>=0.36.3->fastapi) (3.5.0)\n",
      "Requirement already satisfied: idna>=2.8 in /Users/cuburtbalanon/anaconda3/envs/rag-nlp/lib/python3.10/site-packages (from anyio<5,>=3.4.0->starlette<0.37.0,>=0.36.3->fastapi) (3.4)\n",
      "Requirement already satisfied: sniffio>=1.1 in /Users/cuburtbalanon/anaconda3/envs/rag-nlp/lib/python3.10/site-packages (from anyio<5,>=3.4.0->starlette<0.37.0,>=0.36.3->fastapi) (1.2.0)\n",
      "Downloading uvicorn-0.27.1-py3-none-any.whl (60 kB)\n",
      "\u001b[2K   \u001b[90m━━━━━━━━━━━━━━━━━━━━━━━━━━━━━━━━━━━━━━━━\u001b[0m \u001b[32m60.8/60.8 kB\u001b[0m \u001b[31m176.0 kB/s\u001b[0m eta \u001b[36m0:00:00\u001b[0ma \u001b[36m0:00:01\u001b[0m\n",
      "\u001b[?25hDownloading h11-0.14.0-py3-none-any.whl (58 kB)\n",
      "\u001b[2K   \u001b[90m━━━━━━━━━━━━━━━━━━━━━━━━━━━━━━━━━━━━━━━━\u001b[0m \u001b[32m58.3/58.3 kB\u001b[0m \u001b[31m433.0 kB/s\u001b[0m eta \u001b[36m0:00:00\u001b[0ma \u001b[36m0:00:01\u001b[0m\n",
      "\u001b[?25hInstalling collected packages: h11, uvicorn\n",
      "Successfully installed h11-0.14.0 uvicorn-0.27.1\n"
     ]
    }
   ],
   "source": [
    "!pip install fastapi uvicorn"
   ]
  },
  {
   "cell_type": "code",
   "execution_count": 10,
   "metadata": {
    "tags": []
   },
   "outputs": [
    {
     "name": "stdout",
     "output_type": "stream",
     "text": [
      " ```voltscript\n",
      "Dim num As Integer\n",
      "num = CInt(InputBox(\"Enter a number: \"))\n",
      "If (num Mod 2) = 0 Then\n",
      "    Print \"0 is Even\"\n",
      "Else\n",
      "    Print \"0 is Odd\"\n",
      "End If\n",
      "```\n"
     ]
    }
   ],
   "source": [
    "print(\" ```voltscript\\nDim num As Integer\\nnum = CInt(InputBox(\\\"Enter a number: \\\"))\\nIf (num Mod 2) = 0 Then\\n    Print \\\"0 is Even\\\"\\nElse\\n    Print \\\"0 is Odd\\\"\\nEnd If\\n```\")"
   ]
  },
  {
   "cell_type": "code",
   "execution_count": 11,
   "metadata": {
    "tags": []
   },
   "outputs": [
    {
     "name": "stdout",
     "output_type": "stream",
     "text": [
      " ```voltscript\n",
      "' Check if anInt% is greater than myLong&\n",
      "If anInt% > myLong& Then\n",
      "    ' Print a message indicating that anInt% is greater than myLong&\n",
      "    Print 'anInt% is greater than myLong&.'\n",
      "End If\n",
      "```\n"
     ]
    }
   ],
   "source": [
    "print(\" ```voltscript\\n' Check if anInt% is greater than myLong&\\nIf anInt% > myLong& Then\\n    ' Print a message indicating that anInt% is greater than myLong&\\n    Print 'anInt% is greater than myLong&.'\\nEnd If\\n```\")"
   ]
  },
  {
   "cell_type": "code",
   "execution_count": 12,
   "metadata": {
    "tags": []
   },
   "outputs": [
    {
     "name": "stdout",
     "output_type": "stream",
     "text": [
      " ```voltscript\n",
      "Sub loopArrayExitThe(passedArr as Variant)\n",
      "    Dim i as Integer\n",
      "    Dim the as Integer\n",
      "    Do Until i > UBound(passedArr)\n",
      "        If (LCase(passedArr(i)) = 'the') Then\n",
      "            If the++ > 0 Then Exit Do\n",
      "        End If\n",
      "        Print passedArr(i++)\n",
      "    Loop\n",
      "End Sub\n",
      "\n",
      "Sub main()\n",
      "    Dim arr as Variant\n",
      "    arr = {'hi micheal', 'hi jim', 'hi pam', 'hi dwight'}\n",
      "    loopArrayExitThe(arr)\n",
      "End Sub\n",
      "```\n"
     ]
    }
   ],
   "source": [
    "print(\" ```voltscript\\nSub loopArrayExitThe(passedArr as Variant)\\n    Dim i as Integer\\n    Dim the as Integer\\n    Do Until i > UBound(passedArr)\\n        If (LCase(passedArr(i)) = 'the') Then\\n            If the++ > 0 Then Exit Do\\n        End If\\n        Print passedArr(i++)\\n    Loop\\nEnd Sub\\n\\nSub main()\\n    Dim arr as Variant\\n    arr = {'hi micheal', 'hi jim', 'hi pam', 'hi dwight'}\\n    loopArrayExitThe(arr)\\nEnd Sub\\n```\")"
   ]
  },
  {
   "cell_type": "code",
   "execution_count": null,
   "metadata": {},
   "outputs": [],
   "source": []
  },
  {
   "cell_type": "code",
   "execution_count": null,
   "metadata": {},
   "outputs": [],
   "source": []
  }
 ],
 "metadata": {
  "colab": {
   "provenance": []
  },
  "kernelspec": {
   "display_name": "Python 3 (ipykernel)",
   "language": "python",
   "name": "python3"
  },
  "language_info": {
   "codemirror_mode": {
    "name": "ipython",
    "version": 3
   },
   "file_extension": ".py",
   "mimetype": "text/x-python",
   "name": "python",
   "nbconvert_exporter": "python",
   "pygments_lexer": "ipython3",
   "version": "3.9.18"
  }
 },
 "nbformat": 4,
 "nbformat_minor": 4
}
